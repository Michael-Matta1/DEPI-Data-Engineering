{
  "nbformat": 4,
  "nbformat_minor": 0,
  "metadata": {
    "colab": {
      "provenance": [],
      "collapsed_sections": [
        "LtdPzN9CWTJo",
        "nkmi5hRmivPb",
        "DVjYpvOElBGK",
        "9UNbu9_DxwAh",
        "ItiF6jZr2dns"
      ]
    },
    "kernelspec": {
      "name": "python3",
      "display_name": "Python 3"
    },
    "language_info": {
      "name": "python"
    }
  },
  "cells": [
    {
      "cell_type": "markdown",
      "source": [
        "# During Session"
      ],
      "metadata": {
        "id": "LtdPzN9CWTJo"
      }
    },
    {
      "cell_type": "markdown",
      "source": [
        "Note that in the following case, python don't do an overwrite, it makes 2 variables for the same name, one of them is for global and one is local .. and inside the local calls it uses the local value and in global calls it uses the global value"
      ],
      "metadata": {
        "id": "-ALJYpCEWZNf"
      }
    },
    {
      "cell_type": "code",
      "source": [
        "# Global scope\n",
        "x = 10\n",
        "print(\"Global id of x:\", id(x))\n",
        "\n",
        "def print_id():\n",
        "    # Local scope inside the function\n",
        "    x = 20\n",
        "    print(\"Local id of x:\", id(x))\n",
        "\n",
        "print_id()\n"
      ],
      "metadata": {
        "colab": {
          "base_uri": "https://localhost:8080/"
        },
        "id": "RJFADid1WT7H",
        "outputId": "68a81962-7491-42da-83cd-83c61108b84f"
      },
      "execution_count": null,
      "outputs": [
        {
          "output_type": "stream",
          "name": "stdout",
          "text": [
            "Global id of x: 135622859489808\n",
            "Local id of x: 135622859490128\n"
          ]
        }
      ]
    },
    {
      "cell_type": "markdown",
      "source": [
        "to make an overwrite use the ```global``` keywork"
      ],
      "metadata": {
        "id": "LZWik4L_XV43"
      }
    },
    {
      "cell_type": "code",
      "source": [
        "# Global scope\n",
        "x = 10\n",
        "print(\"Initial global id of x:\", id(x))\n",
        "\n",
        "def modify_and_print_id():\n",
        "    global x  # Declare x as global to modify the global variable\n",
        "    x = 20\n",
        "    print(\"Modified global id of x:\", id(x))\n",
        "\n",
        "modify_and_print_id()\n",
        "\n",
        "print(\"Final global id of x:\", id(x))\n"
      ],
      "metadata": {
        "colab": {
          "base_uri": "https://localhost:8080/"
        },
        "id": "W9z5kjc2XaTc",
        "outputId": "c2a02ad6-e611-4490-e5e3-cb352974b4f1"
      },
      "execution_count": null,
      "outputs": [
        {
          "output_type": "stream",
          "name": "stdout",
          "text": [
            "Initial global id of x: 135622859489808\n",
            "Modified global id of x: 135622859490128\n",
            "Final global id of x: 135622859490128\n"
          ]
        }
      ]
    },
    {
      "cell_type": "code",
      "source": [
        "# note the difference :\n",
        "\n",
        "from math import *\n",
        "sqrt(4)\n",
        "import math\n",
        "math.sqrt(4)"
      ],
      "metadata": {
        "id": "nE5tgwPAYsIf"
      },
      "execution_count": null,
      "outputs": []
    },
    {
      "cell_type": "code",
      "source": [
        "# Get multiple inputs in the same line\n",
        "inputs = input(\"Enter three values separated by space: \")\n",
        "\n",
        "\n"
      ],
      "metadata": {
        "colab": {
          "base_uri": "https://localhost:8080/"
        },
        "id": "oZ3KisPUgESb",
        "outputId": "710868ac-7415-499a-e621-f18bbef7ef7c"
      },
      "execution_count": null,
      "outputs": [
        {
          "name": "stdout",
          "output_type": "stream",
          "text": [
            "Enter three values separated by space: inputs inputs inputs\n"
          ]
        }
      ]
    },
    {
      "cell_type": "code",
      "source": [
        "inputs"
      ],
      "metadata": {
        "colab": {
          "base_uri": "https://localhost:8080/",
          "height": 36
        },
        "id": "NFPaGX72gObh",
        "outputId": "d94db460-ec95-4049-d490-a79ef4d26ed1"
      },
      "execution_count": null,
      "outputs": [
        {
          "output_type": "execute_result",
          "data": {
            "text/plain": [
              "'inputs inputs inputs'"
            ],
            "application/vnd.google.colaboratory.intrinsic+json": {
              "type": "string"
            }
          },
          "metadata": {},
          "execution_count": 12
        }
      ]
    },
    {
      "cell_type": "markdown",
      "source": [
        "# Logical Operations on String"
      ],
      "metadata": {
        "id": "nkmi5hRmivPb"
      }
    },
    {
      "cell_type": "markdown",
      "source": [
        "Python considers empty strings as having a boolean value of the ‘false’ and non-empty strings as having a boolean value of ‘true’.\n",
        "\n",
        "For the ‘and’ operator if the left value is true, then the right value is checked and returned. If the left value is false, then it is returned\n",
        "\n",
        "For the ‘or’ operator if the left value is true, then it is returned, otherwise, if the left value is false, then the right value is returned.\n",
        "\n",
        "\n",
        "refrence : https://www.geeksforgeeks.org/g-fact-43-logical-operators-on-string-in-python/"
      ],
      "metadata": {
        "id": "vLkZVPkVjAnL"
      }
    },
    {
      "cell_type": "markdown",
      "source": [
        "note that this happens with numbers too"
      ],
      "metadata": {
        "id": "J1tR0kqGowOG"
      }
    },
    {
      "cell_type": "code",
      "source": [
        "1 or 2"
      ],
      "metadata": {
        "colab": {
          "base_uri": "https://localhost:8080/"
        },
        "id": "qA9OSUisoTWL",
        "outputId": "4ba4511a-50b1-4c23-d6bd-dd536481bf36"
      },
      "execution_count": null,
      "outputs": [
        {
          "output_type": "execute_result",
          "data": {
            "text/plain": [
              "1"
            ]
          },
          "metadata": {},
          "execution_count": 15
        }
      ]
    },
    {
      "cell_type": "code",
      "source": [
        "0 or 2"
      ],
      "metadata": {
        "colab": {
          "base_uri": "https://localhost:8080/"
        },
        "id": "ytLs3i2EoU1w",
        "outputId": "75594b0d-2e0d-4202-b305-2875472d1b09"
      },
      "execution_count": null,
      "outputs": [
        {
          "output_type": "execute_result",
          "data": {
            "text/plain": [
              "2"
            ]
          },
          "metadata": {},
          "execution_count": 16
        }
      ]
    },
    {
      "cell_type": "code",
      "source": [
        "2 or 0"
      ],
      "metadata": {
        "colab": {
          "base_uri": "https://localhost:8080/"
        },
        "id": "OvIblaG_on5G",
        "outputId": "8d819b06-4c2c-4eae-b90e-fdab2a75a86c"
      },
      "execution_count": null,
      "outputs": [
        {
          "output_type": "execute_result",
          "data": {
            "text/plain": [
              "2"
            ]
          },
          "metadata": {},
          "execution_count": 20
        }
      ]
    },
    {
      "cell_type": "code",
      "source": [
        "1 and 2"
      ],
      "metadata": {
        "colab": {
          "base_uri": "https://localhost:8080/"
        },
        "id": "Uw2me9mzoW1R",
        "outputId": "44fdc24e-7542-4223-f6ac-614ef076e386"
      },
      "execution_count": null,
      "outputs": [
        {
          "output_type": "execute_result",
          "data": {
            "text/plain": [
              "2"
            ]
          },
          "metadata": {},
          "execution_count": 18
        }
      ]
    },
    {
      "cell_type": "code",
      "source": [
        "1 and 0"
      ],
      "metadata": {
        "colab": {
          "base_uri": "https://localhost:8080/"
        },
        "id": "8Gf6w4oBoajK",
        "outputId": "2b861709-3b08-493c-a1a7-264aa144986e"
      },
      "execution_count": null,
      "outputs": [
        {
          "output_type": "execute_result",
          "data": {
            "text/plain": [
              "0"
            ]
          },
          "metadata": {},
          "execution_count": 19
        }
      ]
    },
    {
      "cell_type": "code",
      "source": [
        "2 and 0"
      ],
      "metadata": {
        "colab": {
          "base_uri": "https://localhost:8080/"
        },
        "id": "3HJA6ZlBouo1",
        "outputId": "26eca73d-666f-403b-a751-16354d1c95b8"
      },
      "execution_count": null,
      "outputs": [
        {
          "output_type": "execute_result",
          "data": {
            "text/plain": [
              "0"
            ]
          },
          "metadata": {},
          "execution_count": 21
        }
      ]
    },
    {
      "cell_type": "code",
      "source": [
        "0 or 2"
      ],
      "metadata": {
        "colab": {
          "base_uri": "https://localhost:8080/"
        },
        "id": "HQTNJAOLo4G2",
        "outputId": "d9078ebb-7c18-4e4c-d26f-250897d67ce1"
      },
      "execution_count": null,
      "outputs": [
        {
          "output_type": "execute_result",
          "data": {
            "text/plain": [
              "2"
            ]
          },
          "metadata": {},
          "execution_count": 22
        }
      ]
    },
    {
      "cell_type": "markdown",
      "source": [
        "# How to write a decorator"
      ],
      "metadata": {
        "id": "DVjYpvOElBGK"
      }
    },
    {
      "cell_type": "markdown",
      "source": [
        "when a decorated function is called, the wrapper function (the inner nested function inside the decorator) replaces it and takes action instead ...  so we have to pass the arguments of the original function to the wraper function that will take place instead of the original function\n",
        "\n",
        "refrences :\n",
        "\n",
        "https://www.youtube.com/watch?v=BnBJVh1DBGw\n",
        "\n",
        "https://www.youtube.com/watch?v=ZVCPwfyAcBE\n",
        "\n",
        "https://www.youtube.com/watch?v=WQk_j8KMExY\n",
        "\n",
        "https://www.geeksforgeeks.org/decorators-in-python/"
      ],
      "metadata": {
        "id": "I7ThNzTi0yH0"
      }
    },
    {
      "cell_type": "markdown",
      "source": [
        "**for me to read when needed:**\n",
        "---\n",
        "\n",
        "When using decorators, the outer function (decorator) `my_decorator` returns an inner function (wrapper) that takes arguments. This design allows the decorator to be flexible and work with functions that take various arguments.\n",
        "\n",
        "### Step-by-Step Explanation:\n",
        "\n",
        "1. **Defining the Decorator**:\n",
        "   The outer function (`my_decorator`) takes a function `func` as an argument and defines an inner function (`wrapper`).\n",
        "   ```python\n",
        "   def my_decorator(func):\n",
        "       def wrapper(*args, **kwargs):\n",
        "           # Add behavior before\n",
        "           result = func(*args, **kwargs)\n",
        "           # Add behavior after\n",
        "           return result\n",
        "       return wrapper\n",
        "   ```\n",
        "\n",
        "2. **Inner Function `wrapper`**:\n",
        "   The `wrapper` function is designed to accept any number of positional (`*args`) and keyword arguments (`**kwargs`). This makes the decorator applicable to any function, regardless of its signature.\n",
        "   ```python\n",
        "   def wrapper(*args, **kwargs):\n",
        "       # Additional behavior can be added here\n",
        "       result = func(*args, **kwargs)\n",
        "       # Additional behavior can be added here\n",
        "       return result\n",
        "   ```\n",
        "\n",
        "3. **Applying the Decorator**:\n",
        "   When the decorator is applied to a function, it replaces that function with the `wrapper` function. The original function is now called within the `wrapper`, which allows the decorator to add behavior before and after the function call.\n",
        "   ```python\n",
        "   @my_decorator\n",
        "   def say_hello(name):\n",
        "       print(f\"Hello, {name}!\")\n",
        "   \n",
        "   say_hello(\"Alice\")\n",
        "   ```\n",
        "\n",
        "4. **Execution**:\n",
        "   When `say_hello(\"Alice\")` is called, the `wrapper` function executes instead:\n",
        "   ```python\n",
        "   def wrapper(*args, **kwargs):\n",
        "       # Before behavior\n",
        "       result = func(*args, **kwargs)  # This is where say_hello(\"Alice\") runs\n",
        "       # After behavior\n",
        "       return result\n",
        "   ```\n",
        "   Here, `func(*args, **kwargs)` translates to `say_hello(\"Alice\")`.\n",
        "\n",
        "### Complete Example:\n",
        "\n",
        "Here’s a complete example with additional behavior added before and after the function call:\n",
        "\n",
        "```python\n",
        "def my_decorator(func):\n",
        "    def wrapper(*args, **kwargs):\n",
        "        print(\"Something is happening before the function is called.\")\n",
        "        result = func(*args, **kwargs)\n",
        "        print(\"Something is happening after the function is called.\")\n",
        "        return result\n",
        "    return wrapper\n",
        "\n",
        "@my_decorator\n",
        "def say_hello(name):\n",
        "    print(f\"Hello, {name}!\")\n",
        "\n",
        "say_hello(\"Alice\")\n",
        "```\n",
        "\n",
        "### Output:\n",
        "```\n",
        "Something is happening before the function is called.\n",
        "Hello, Alice!\n",
        "Something is happening after the function is called.\n",
        "```\n",
        "\n",
        "### Why Pass Arguments:\n",
        "- **Flexibility**: Allows the decorator to work with functions that have different signatures.\n",
        "- **Maintain Functionality**: Ensures that the decorated function behaves correctly and can accept the same arguments as the original function.\n",
        "- **Extensibility**: Allows you to add functionality around the function call without modifying the function itself.\n",
        "\n",
        "By using `*args` and `**kwargs`, the decorator can handle any number of arguments and keyword arguments, making it a versatile tool in Python programming.\n",
        "\n",
        "\n",
        "---\n",
        "---\n",
        "---\n",
        "\n",
        "\n",
        "Great question! The reason we pass arguments to the inner `wrapper` function, even though it’s wrapped by the outer decorator function, relates to how decorators work in Python and how they handle function arguments.\n",
        "\n",
        "### Decorators and Function Arguments\n",
        "\n",
        "When you create a decorator, you often want it to be flexible enough to handle functions that take various arguments. Here's a detailed explanation:\n",
        "\n",
        "1. **Decorator Definition**:\n",
        "   The outer function (`my_decorator`) is responsible for taking the original function (`func`) and returning a new function (the `wrapper`) that adds some extra behavior.\n",
        "\n",
        "   ```python\n",
        "   def my_decorator(func):\n",
        "       def wrapper(*args, **kwargs):\n",
        "           # Additional behavior\n",
        "           func(*args, **kwargs)\n",
        "           # More additional behavior\n",
        "       return wrapper\n",
        "   ```\n",
        "\n",
        "   - `func` is the original function being decorated.\n",
        "   - `wrapper` is the function that will replace the original function and will include the additional behavior.\n",
        "\n",
        "2. **Handling Function Arguments**:\n",
        "   The `wrapper` function needs to accept any arguments that the original function might take, so it uses `*args` and `**kwargs` to capture positional and keyword arguments. This ensures that `wrapper` can handle any function signature.\n",
        "\n",
        "   ```python\n",
        "   def wrapper(*args, **kwargs):\n",
        "       # Additional behavior before calling the original function\n",
        "       func(*args, **kwargs)  # Calling the original function with its arguments\n",
        "       # Additional behavior after calling the original function\n",
        "   ```\n",
        "\n",
        "   - `*args` captures all positional arguments.\n",
        "   - `**kwargs` captures all keyword arguments.\n",
        "\n",
        "3. **Example with Arguments**:\n",
        "   Suppose you have a function that takes arguments and you want to apply a decorator to it:\n",
        "\n",
        "   ```python\n",
        "   def my_decorator(func):\n",
        "       def wrapper(*args, **kwargs):\n",
        "           print(\"Before function call\")\n",
        "           result = func(*args, **kwargs)\n",
        "           print(\"After function call\")\n",
        "           return result\n",
        "       return wrapper\n",
        "\n",
        "   @my_decorator\n",
        "   def say_hello(name):\n",
        "       print(f\"Hello, {name}!\")\n",
        "\n",
        "   say_hello(\"Alice\")\n",
        "   ```\n",
        "\n",
        "   - When `say_hello(\"Alice\")` is called, the `wrapper` function is invoked.\n",
        "   - The `wrapper` function prints a message before and after calling `func` (the original `say_hello` function).\n",
        "   - `*args` and `**kwargs` ensure that the `say_hello` function receives the `\"Alice\"` argument correctly.\n",
        "\n",
        "### Why Pass Arguments to `wrapper`?\n",
        "Passing arguments to `wrapper` ensures that the decorator can handle functions of any signature. If the `wrapper` function didn’t accept `*args` and `**kwargs`, it would only be able to handle functions with a specific signature, which would limit its usability.\n",
        "\n",
        "In summary, the inner `wrapper` function needs to accept and pass along arguments to ensure that the decorator can be applied to any function regardless of its parameters. This flexibility is one of the reasons decorators are so powerful and widely used in Python."
      ],
      "metadata": {
        "id": "F_RXkj1mFxJ0"
      }
    },
    {
      "cell_type": "markdown",
      "source": [
        "# Create module and call it from another file\n",
        "\n",
        "upload python file on collab then : from file import function name"
      ],
      "metadata": {
        "id": "9UNbu9_DxwAh"
      }
    },
    {
      "cell_type": "code",
      "source": [
        "from google.colab import files\n",
        "files.upload()"
      ],
      "metadata": {
        "colab": {
          "base_uri": "https://localhost:8080/",
          "height": 90
        },
        "id": "3l7hg4pQSheh",
        "outputId": "3ea606de-716b-4d28-f85c-e790d1a65938"
      },
      "execution_count": null,
      "outputs": [
        {
          "output_type": "display_data",
          "data": {
            "text/plain": [
              "<IPython.core.display.HTML object>"
            ],
            "text/html": [
              "\n",
              "     <input type=\"file\" id=\"files-04785fb7-db85-4683-80bf-7300075fee30\" name=\"files[]\" multiple disabled\n",
              "        style=\"border:none\" />\n",
              "     <output id=\"result-04785fb7-db85-4683-80bf-7300075fee30\">\n",
              "      Upload widget is only available when the cell has been executed in the\n",
              "      current browser session. Please rerun this cell to enable.\n",
              "      </output>\n",
              "      <script>// Copyright 2017 Google LLC\n",
              "//\n",
              "// Licensed under the Apache License, Version 2.0 (the \"License\");\n",
              "// you may not use this file except in compliance with the License.\n",
              "// You may obtain a copy of the License at\n",
              "//\n",
              "//      http://www.apache.org/licenses/LICENSE-2.0\n",
              "//\n",
              "// Unless required by applicable law or agreed to in writing, software\n",
              "// distributed under the License is distributed on an \"AS IS\" BASIS,\n",
              "// WITHOUT WARRANTIES OR CONDITIONS OF ANY KIND, either express or implied.\n",
              "// See the License for the specific language governing permissions and\n",
              "// limitations under the License.\n",
              "\n",
              "/**\n",
              " * @fileoverview Helpers for google.colab Python module.\n",
              " */\n",
              "(function(scope) {\n",
              "function span(text, styleAttributes = {}) {\n",
              "  const element = document.createElement('span');\n",
              "  element.textContent = text;\n",
              "  for (const key of Object.keys(styleAttributes)) {\n",
              "    element.style[key] = styleAttributes[key];\n",
              "  }\n",
              "  return element;\n",
              "}\n",
              "\n",
              "// Max number of bytes which will be uploaded at a time.\n",
              "const MAX_PAYLOAD_SIZE = 100 * 1024;\n",
              "\n",
              "function _uploadFiles(inputId, outputId) {\n",
              "  const steps = uploadFilesStep(inputId, outputId);\n",
              "  const outputElement = document.getElementById(outputId);\n",
              "  // Cache steps on the outputElement to make it available for the next call\n",
              "  // to uploadFilesContinue from Python.\n",
              "  outputElement.steps = steps;\n",
              "\n",
              "  return _uploadFilesContinue(outputId);\n",
              "}\n",
              "\n",
              "// This is roughly an async generator (not supported in the browser yet),\n",
              "// where there are multiple asynchronous steps and the Python side is going\n",
              "// to poll for completion of each step.\n",
              "// This uses a Promise to block the python side on completion of each step,\n",
              "// then passes the result of the previous step as the input to the next step.\n",
              "function _uploadFilesContinue(outputId) {\n",
              "  const outputElement = document.getElementById(outputId);\n",
              "  const steps = outputElement.steps;\n",
              "\n",
              "  const next = steps.next(outputElement.lastPromiseValue);\n",
              "  return Promise.resolve(next.value.promise).then((value) => {\n",
              "    // Cache the last promise value to make it available to the next\n",
              "    // step of the generator.\n",
              "    outputElement.lastPromiseValue = value;\n",
              "    return next.value.response;\n",
              "  });\n",
              "}\n",
              "\n",
              "/**\n",
              " * Generator function which is called between each async step of the upload\n",
              " * process.\n",
              " * @param {string} inputId Element ID of the input file picker element.\n",
              " * @param {string} outputId Element ID of the output display.\n",
              " * @return {!Iterable<!Object>} Iterable of next steps.\n",
              " */\n",
              "function* uploadFilesStep(inputId, outputId) {\n",
              "  const inputElement = document.getElementById(inputId);\n",
              "  inputElement.disabled = false;\n",
              "\n",
              "  const outputElement = document.getElementById(outputId);\n",
              "  outputElement.innerHTML = '';\n",
              "\n",
              "  const pickedPromise = new Promise((resolve) => {\n",
              "    inputElement.addEventListener('change', (e) => {\n",
              "      resolve(e.target.files);\n",
              "    });\n",
              "  });\n",
              "\n",
              "  const cancel = document.createElement('button');\n",
              "  inputElement.parentElement.appendChild(cancel);\n",
              "  cancel.textContent = 'Cancel upload';\n",
              "  const cancelPromise = new Promise((resolve) => {\n",
              "    cancel.onclick = () => {\n",
              "      resolve(null);\n",
              "    };\n",
              "  });\n",
              "\n",
              "  // Wait for the user to pick the files.\n",
              "  const files = yield {\n",
              "    promise: Promise.race([pickedPromise, cancelPromise]),\n",
              "    response: {\n",
              "      action: 'starting',\n",
              "    }\n",
              "  };\n",
              "\n",
              "  cancel.remove();\n",
              "\n",
              "  // Disable the input element since further picks are not allowed.\n",
              "  inputElement.disabled = true;\n",
              "\n",
              "  if (!files) {\n",
              "    return {\n",
              "      response: {\n",
              "        action: 'complete',\n",
              "      }\n",
              "    };\n",
              "  }\n",
              "\n",
              "  for (const file of files) {\n",
              "    const li = document.createElement('li');\n",
              "    li.append(span(file.name, {fontWeight: 'bold'}));\n",
              "    li.append(span(\n",
              "        `(${file.type || 'n/a'}) - ${file.size} bytes, ` +\n",
              "        `last modified: ${\n",
              "            file.lastModifiedDate ? file.lastModifiedDate.toLocaleDateString() :\n",
              "                                    'n/a'} - `));\n",
              "    const percent = span('0% done');\n",
              "    li.appendChild(percent);\n",
              "\n",
              "    outputElement.appendChild(li);\n",
              "\n",
              "    const fileDataPromise = new Promise((resolve) => {\n",
              "      const reader = new FileReader();\n",
              "      reader.onload = (e) => {\n",
              "        resolve(e.target.result);\n",
              "      };\n",
              "      reader.readAsArrayBuffer(file);\n",
              "    });\n",
              "    // Wait for the data to be ready.\n",
              "    let fileData = yield {\n",
              "      promise: fileDataPromise,\n",
              "      response: {\n",
              "        action: 'continue',\n",
              "      }\n",
              "    };\n",
              "\n",
              "    // Use a chunked sending to avoid message size limits. See b/62115660.\n",
              "    let position = 0;\n",
              "    do {\n",
              "      const length = Math.min(fileData.byteLength - position, MAX_PAYLOAD_SIZE);\n",
              "      const chunk = new Uint8Array(fileData, position, length);\n",
              "      position += length;\n",
              "\n",
              "      const base64 = btoa(String.fromCharCode.apply(null, chunk));\n",
              "      yield {\n",
              "        response: {\n",
              "          action: 'append',\n",
              "          file: file.name,\n",
              "          data: base64,\n",
              "        },\n",
              "      };\n",
              "\n",
              "      let percentDone = fileData.byteLength === 0 ?\n",
              "          100 :\n",
              "          Math.round((position / fileData.byteLength) * 100);\n",
              "      percent.textContent = `${percentDone}% done`;\n",
              "\n",
              "    } while (position < fileData.byteLength);\n",
              "  }\n",
              "\n",
              "  // All done.\n",
              "  yield {\n",
              "    response: {\n",
              "      action: 'complete',\n",
              "    }\n",
              "  };\n",
              "}\n",
              "\n",
              "scope.google = scope.google || {};\n",
              "scope.google.colab = scope.google.colab || {};\n",
              "scope.google.colab._files = {\n",
              "  _uploadFiles,\n",
              "  _uploadFilesContinue,\n",
              "};\n",
              "})(self);\n",
              "</script> "
            ]
          },
          "metadata": {}
        },
        {
          "output_type": "stream",
          "name": "stdout",
          "text": [
            "Saving mymodule.py to mymodule.py\n"
          ]
        },
        {
          "output_type": "execute_result",
          "data": {
            "text/plain": [
              "{'mymodule.py': b'def hello():\\r\\n    print(\"Hello from module!\")\\r\\n'}"
            ]
          },
          "metadata": {},
          "execution_count": 9
        }
      ]
    },
    {
      "cell_type": "code",
      "source": [
        "from mymodule import hello\n",
        "hello()"
      ],
      "metadata": {
        "colab": {
          "base_uri": "https://localhost:8080/"
        },
        "id": "fPM0l1AqQUUF",
        "outputId": "d7eb05e3-3459-4806-a051-25744d372094"
      },
      "execution_count": null,
      "outputs": [
        {
          "output_type": "stream",
          "name": "stdout",
          "text": [
            "Hello from module!\n"
          ]
        }
      ]
    },
    {
      "cell_type": "markdown",
      "source": [
        "# Create a Calculator\n",
        "Ask the user to enter a command do operations two numbers to simulate a calculator.\n",
        "\n",
        "Bonus: ask the user if he would like to make another operation or not. if yes, do it all over again in the same run. only exit the program if he says 'stop'"
      ],
      "metadata": {
        "id": "ItiF6jZr2dns"
      }
    },
    {
      "cell_type": "code",
      "source": [
        "import math\n",
        "import cmath\n",
        "import numpy as np\n",
        "\n",
        "# Real numbers\n",
        "def add(a, b):\n",
        "    return a + b\n",
        "\n",
        "def subtract(a, b):\n",
        "    return a - b\n",
        "\n",
        "def multiply(a, b):\n",
        "    return a * b\n",
        "\n",
        "def divide(a, b):\n",
        "    if b != 0:\n",
        "        return a / b\n",
        "    else:\n",
        "        return \"Error: Division by zero\"\n",
        "\n",
        "def power(a, b):\n",
        "    return a ** b\n",
        "\n",
        "def sqrt(a):\n",
        "    if a >= 0:\n",
        "        return math.sqrt(a)\n",
        "    else:\n",
        "        return \"Error: Square root of negative number\"\n",
        "\n",
        "# Complex number operations\n",
        "def complex_add(c1, c2):\n",
        "    return c1 + c2\n",
        "\n",
        "def complex_subtract(c1, c2):\n",
        "    return c1 - c2\n",
        "\n",
        "def complex_multiply(c1, c2):\n",
        "    return c1 * c2\n",
        "\n",
        "def complex_divide(c1, c2):\n",
        "    if c2 != 0:\n",
        "        return c1 / c2\n",
        "    else:\n",
        "        return \"Error: Division by zero\"\n",
        "\n",
        "def complex_logarithm(c1):\n",
        "    return cmath.log(c1)\n",
        "\n",
        "def complex_sqrt(c1):\n",
        "    return cmath.sqrt(c1)\n",
        "\n",
        "def complex_polar(c1):\n",
        "    return cmath.polar(c1)\n",
        "\n",
        "# Matrix operations\n",
        "def matrix_add(m1, m2):\n",
        "    return np.add(m1, m2)\n",
        "\n",
        "def matrix_subtract(m1, m2):\n",
        "    return np.subtract(m1, m2)\n",
        "\n",
        "def matrix_multiply(m1, m2):\n",
        "    return np.matmul(m1, m2)\n",
        "\n",
        "def transpose(m):\n",
        "    return np.transpose(m)\n",
        "\n",
        "def matrix_determinant(m):\n",
        "    return np.linalg.det(m)\n",
        "\n",
        "def matrix_inverse(m):\n",
        "    if np.linalg.det(m) != 0:\n",
        "        return np.linalg.inv(m)\n",
        "    else:\n",
        "        return \"Error: Matrix is not invertible\"\n",
        "\n",
        "def is_valid_number(value):\n",
        "    if value.startswith('-'):\n",
        "        value = value[1:]  # remove the negative sign for checking\n",
        "    return value.replace('.', '', 1).isdigit() # replaces 1 dot with nothing\n",
        "\n",
        "def get_float(prompt):\n",
        "    while True:\n",
        "        value = input(prompt)\n",
        "        if is_valid_number(value):\n",
        "            return float(value)\n",
        "        else:\n",
        "            print(\"Invalid input. Please enter a numeric value.\")\n",
        "\n",
        "def get_complex(prompt):\n",
        "    while True:\n",
        "        real = input(f\"Enter the real part of {prompt}: \")\n",
        "        imag = input(f\"Enter the imaginary part of {prompt}: \")\n",
        "        if is_valid_number(real) and is_valid_number(imag):\n",
        "            return complex(float(real), float(imag))\n",
        "        else:\n",
        "            print(\"Invalid input. Please enter numeric values for both real and imaginary parts.\")\n",
        "\n",
        "def get_matrix(prompt, rowsNum, colsNum):\n",
        "    matrix = []\n",
        "    print(f\"Enter elements for {prompt} (each row on a new line):\")\n",
        "    for i in range(rowsNum):\n",
        "        while True:\n",
        "            row = input(f\"Row {i+1}: \").split()\n",
        "            if len(row) != colsNum:\n",
        "                print(f\"Invalid input. Expected {colsNum} columns.\")\n",
        "                continue\n",
        "\n",
        "            valid = True\n",
        "            for val in row:\n",
        "                if not is_valid_number(val):\n",
        "                    valid = False\n",
        "                    break\n",
        "\n",
        "            if valid:\n",
        "                matrix.append([float(val) for val in row]) # list comprehension\n",
        "                break\n",
        "            else:\n",
        "                print(\"Invalid input. Please enter numeric values only.\")\n",
        "\n",
        "    return np.array(matrix)\n",
        "\n",
        "def Calculator():\n",
        "    while True:\n",
        "        print(\"\\nCalculator Menu:\")\n",
        "        print(\"1. Add (Real)\")\n",
        "        print(\"2. Subtract (Real)\")\n",
        "        print(\"3. Multiply (Real)\")\n",
        "        print(\"4. Divide (Real)\")\n",
        "        print(\"5. Power (Real)\")\n",
        "        print(\"6. Square Root (Real)\")\n",
        "        print(\"7. Add (Complex)\")\n",
        "        print(\"8. Subtract (Complex)\")\n",
        "        print(\"9. Multiply (Complex)\")\n",
        "        print(\"10. Divide (Complex)\")\n",
        "        print(\"11. Logarithm (Complex)\")\n",
        "        print(\"12. Square Root (Complex)\")\n",
        "        print(\"13. Polar Coordinates (Complex)\")\n",
        "        print(\"14. Add (Matrix)\")\n",
        "        print(\"15. Subtract (Matrix)\")\n",
        "        print(\"16. Multiply (Matrix)\")\n",
        "        print(\"17. Transpose (Matrix)\")\n",
        "        print(\"18. Inverse (Matrix)\")\n",
        "        print(\"19. Determinant (Matrix)\")\n",
        "        print(\"20. Exit\")\n",
        "\n",
        "        choice = input(\"Enter choice (1-20): \")\n",
        "\n",
        "        if choice == '20':\n",
        "            break\n",
        "\n",
        "        # Real operations\n",
        "        if choice in {'1', '2', '3', '4', '5', '6'}:\n",
        "            a = get_float(\"Enter the first number: \")\n",
        "            b = get_float(\"Enter the second number: \")\n",
        "            if choice == '1':\n",
        "                print(\"Result:\", add(a, b))\n",
        "            elif choice == '2':\n",
        "                print(\"Result:\", subtract(a, b))\n",
        "            elif choice == '3':\n",
        "                print(\"Result:\", multiply(a, b))\n",
        "            elif choice == '4':\n",
        "                print(\"Result:\", divide(a, b))\n",
        "            elif choice == '5':\n",
        "                print(\"Result:\", power(a, b))\n",
        "            elif choice == '6':\n",
        "                print(\"Result:\", sqrt(a))\n",
        "\n",
        "        # Complex operations\n",
        "        elif choice in {'7', '8', '9', '10', '11', '12', '13'}:\n",
        "            c1 = get_complex(\"the first complex number\")\n",
        "            if choice in {'7', '8', '9', '10'}:\n",
        "                c2 = get_complex(\"the second complex number\")\n",
        "                if choice == '7':\n",
        "                    print(\"Result:\", complex_add(c1, c2))\n",
        "                elif choice == '8':\n",
        "                    print(\"Result:\", complex_subtract(c1, c2))\n",
        "                elif choice == '9':\n",
        "                    print(\"Result:\", complex_multiply(c1, c2))\n",
        "                elif choice == '10':\n",
        "                    print(\"Result:\", complex_divide(c1, c2))\n",
        "            elif choice == '11':\n",
        "                print(\"Result:\", complex_logarithm(c1))\n",
        "            elif choice == '12':\n",
        "                print(\"Result:\", complex_sqrt(c1))\n",
        "            elif choice == '13':\n",
        "                print(\"Result:\", complex_polar(c1))\n",
        "\n",
        "        # Matrix operations\n",
        "        elif choice in {'14', '15', '16', '17', '18', '19'}:\n",
        "            rowsNum = int(get_float(\"Enter the number of rows: \"))\n",
        "            colsNum = int(get_float(\"Enter the number of columns: \"))\n",
        "            m1 = get_matrix(\"the first matrix\", rowsNum, colsNum)\n",
        "            m2 = get_matrix(\"the second matrix\", rowsNum, colsNum)\n",
        "            if choice == '14':\n",
        "                print(\"Result:\", matrix_add(m1, m2))\n",
        "            elif choice == '15':\n",
        "                print(\"Result:\", matrix_subtract(m1, m2))\n",
        "            elif choice == '16':\n",
        "                print(\"Result:\", matrix_multiply(m1, m2))\n",
        "            elif choice == '17':\n",
        "                print(\"Result:\", transpose(m1))\n",
        "            elif choice == '18':\n",
        "                print(\"Result:\", matrix_inverse(m1))\n",
        "            elif choice == '19':\n",
        "                print(\"Result:\", matrix_determinant(m1))\n",
        "\n",
        "        else:\n",
        "            print(\"Invalid choice, please try again.\")\n",
        "\n",
        "        again = input(\"If you want to stop type (stop):\\nIf you want to try again enter any other thing \\n\")\n",
        "        if again.lower() == 'stop':\n",
        "            print(\"Exiting the Calculator.\")\n",
        "            break\n",
        "\n",
        "Calculator()"
      ],
      "metadata": {
        "id": "TINpmCQ62mNz",
        "colab": {
          "base_uri": "https://localhost:8080/"
        },
        "outputId": "c610d7b1-4da8-40b2-9800-30d832b6d4f2"
      },
      "execution_count": null,
      "outputs": [
        {
          "output_type": "stream",
          "name": "stdout",
          "text": [
            "\n",
            "Calculator Menu:\n",
            "1. Add (Real)\n",
            "2. Subtract (Real)\n",
            "3. Multiply (Real)\n",
            "4. Divide (Real)\n",
            "5. Power (Real)\n",
            "6. Square Root (Real)\n",
            "7. Add (Complex)\n",
            "8. Subtract (Complex)\n",
            "9. Multiply (Complex)\n",
            "10. Divide (Complex)\n",
            "11. Logarithm (Complex)\n",
            "12. Square Root (Complex)\n",
            "13. Polar Coordinates (Complex)\n",
            "14. Add (Matrix)\n",
            "15. Subtract (Matrix)\n",
            "16. Multiply (Matrix)\n",
            "17. Transpose (Matrix)\n",
            "18. Inverse (Matrix)\n",
            "19. Determinant (Matrix)\n",
            "20. Exit\n",
            "Enter choice (1-20): 1\n",
            "Enter the first number: 1\n",
            "Enter the second number: 1\n",
            "Result: 2.0\n",
            "If you want to stop type (stop):\n",
            "If you want to try again enter any other thing \n",
            "stop\n",
            "Exiting the Calculator.\n"
          ]
        }
      ]
    }
  ]
}