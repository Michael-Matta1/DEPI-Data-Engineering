{
  "nbformat": 4,
  "nbformat_minor": 0,
  "metadata": {
    "colab": {
      "provenance": [],
      "collapsed_sections": [
        "QkR_tQgVN472",
        "-6lpEfdGXnpa",
        "avUzgwSzemkC",
        "dJheZFOWjMPi"
      ],
      "toc_visible": true
    },
    "kernelspec": {
      "name": "python3",
      "display_name": "Python 3"
    },
    "language_info": {
      "name": "python"
    }
  },
  "cells": [
    {
      "cell_type": "markdown",
      "source": [
        "# Lists methods\n"
      ],
      "metadata": {
        "id": "QkR_tQgVN472"
      }
    },
    {
      "cell_type": "markdown",
      "source": [
        "append(): Adds an element at the end of the list.\n",
        "\n",
        "insert(): Adds an element at the specified position.\n",
        "\n",
        "extend(): Adds the elements of a list (or any iterable), to the end of the current list.\n",
        "\n",
        "remove(): Removes the first item with the specified value.\n",
        "\n",
        "pop(): Removes the element at the specified position.\n",
        "\n",
        "clear(): Removes all the elements from the list.\n",
        "\n",
        "index(): Returns the index of the first element with the specified value.\n",
        "\n",
        "copy(): Returns a copy of the list.\n",
        "\n",
        "count(): Returns the number of elements with the specified value.\n",
        "\n",
        "sort(): Sorts the list.\n",
        "\n",
        "reverse(): Reverses the order of the list."
      ],
      "metadata": {
        "id": "KN9J5fqeU9nf"
      }
    },
    {
      "cell_type": "code",
      "source": [
        "my_list = [1, 2, 3]\n",
        "\n",
        "# append()\n",
        "my_list.append(\"hello\")\n",
        "print(\"After append('hello'):\", my_list)\n",
        "\n",
        "# insert()\n",
        "my_list.insert(2, 'K')\n",
        "print(\"After insert(2, 'K'):\", my_list)\n",
        "\n",
        "# extend()\n",
        "my_list.extend([8, 9])\n",
        "print(\"After extend([8, 9]):\", my_list)\n",
        "\n",
        "# remove()\n",
        "my_list.remove('K')\n",
        "print(\"After remove('K'):\", my_list)\n",
        "\n",
        "# pop()\n",
        "popped_element = my_list.pop(3)\n",
        "print(\"After pop(3):\", my_list, \"And the opped element is:\", popped_element)\n",
        "\n",
        "# clear()\n",
        "my_list.clear()\n",
        "print(\"After clear():\", my_list)\n",
        "\n",
        "# Re-initialize list for further testing\n",
        "my_list = [1, 2, 3, 4, 3, 5, 3]\n",
        "\n",
        "# index()\n",
        "index_of_3 = my_list.index(3)\n",
        "print(\"Index of first occurrence of 3:\", index_of_3)\n",
        "\n",
        "# copy()\n",
        "copied_list = my_list.copy()\n",
        "print(\"Copied list:\", copied_list)\n",
        "\n",
        "# count()\n",
        "count_of_3 = my_list.count(3)\n",
        "print(\"Count of 3:\", count_of_3)\n",
        "\n",
        "# sort()\n",
        "unsorted_list = [5, 3, 2, 1, 4, 2]\n",
        "unsorted_list.sort()\n",
        "print(\"After sort():\", unsorted_list)\n",
        "\n",
        "# reverse()\n",
        "unsorted_list.reverse()\n",
        "print(\"After reverse():\", unsorted_list)\n"
      ],
      "metadata": {
        "colab": {
          "base_uri": "https://localhost:8080/"
        },
        "id": "8NmpKTooN86X",
        "outputId": "82cf20cf-41a2-4b20-ccdc-560ab2415608"
      },
      "execution_count": null,
      "outputs": [
        {
          "output_type": "stream",
          "name": "stdout",
          "text": [
            "After append('hello'): [1, 2, 3, 'hello']\n",
            "After insert(2, 'K'): [1, 2, 'K', 3, 'hello']\n",
            "After extend([8, 9]): [1, 2, 'K', 3, 'hello', 8, 9]\n",
            "After remove('K'): [1, 2, 3, 'hello', 8, 9]\n",
            "After pop(3): [1, 2, 3, 8, 9] And the opped element is: hello\n",
            "After clear(): []\n",
            "Index of first occurrence of 3: 2\n",
            "Copied list: [1, 2, 3, 4, 3, 5, 3]\n",
            "Count of 3: 3\n",
            "After sort(): [1, 2, 2, 3, 4, 5]\n",
            "After reverse(): [5, 4, 3, 2, 2, 1]\n"
          ]
        }
      ]
    },
    {
      "cell_type": "markdown",
      "source": [
        "# String methods\n"
      ],
      "metadata": {
        "id": "-6lpEfdGXnpa"
      }
    },
    {
      "cell_type": "markdown",
      "source": [
        "strip(): Removes any leading and trailing whitespace.\n",
        "\n",
        "lower(): Converts all characters in the string to lowercase.\n",
        "\n",
        "upper(): Converts all characters in the string to uppercase.\n",
        "\n",
        "replace(): Replaces a specified phrase with another specified phrase.\n",
        "\n",
        "split(): Splits the string into a list where each word is a list item.\n",
        "\n",
        "capitalize(): Converts the first character to uppercase and the rest to lowercase.\n",
        "\n",
        "count(): Returns the number of times a specified value occurs in a string.\n",
        "\n",
        "index(): Returns the position of the first occurrence of a specified value.\n",
        "\n",
        "find(): Finds the first occurrence of a specified value and returns its position.\n",
        "\n",
        "isalpha(): Returns True if all characters in the string are alphabetic.\n",
        "\n",
        "isalnum(): Returns True if all characters in the string are alphanumeric.\n",
        "\n",
        "isdigit(): Returns True if all characters in the string are digits.\n",
        "\n",
        "islower(): Returns True if all characters in the string are lowercase.\n",
        "\n",
        "isupper(): Returns True if all characters in the string are uppercase."
      ],
      "metadata": {
        "id": "ichFo7rGXpCR"
      }
    },
    {
      "cell_type": "code",
      "source": [
        "# Initial string\n",
        "my_string2 = \"   Hello    World!   \"\n",
        "\n",
        "# strip()\n",
        "stripped_string = my_string.strip()\n",
        "print(\"After strip():\", stripped_string)\n",
        "stripped_string2 = my_string2.strip()\n",
        "print(\"After strip() of 2:\", stripped_string2)\n",
        "\n",
        "# lower()\n",
        "lowered_string = my_string.lower()\n",
        "print(\"After lower():\", lowered_string)\n",
        "\n",
        "# upper()\n",
        "uppered_string = my_string.upper()\n",
        "print(\"After upper():\", uppered_string)\n",
        "\n",
        "# replace()\n",
        "replaced_string = my_string.replace(\"World\", \"replaced\")\n",
        "print(\"After replace:\", replaced_string)\n",
        "\n",
        "# split()\n",
        "split_string = my_string.split()\n",
        "print(\"After split():\", split_string)\n",
        "\n",
        "# capitalize()\n",
        "capitalized_string = my_string.capitalize()\n",
        "print(\"After capitalize():\", capitalized_string)\n",
        "print(\"Capitalize() for Hello World!:\", \"Hello World!\".capitalize())\n",
        "print(\"Capitalize() for hello World!:\", \"hello World!\".capitalize())\n",
        "\n",
        "# count()\n",
        "count_l = my_string.count('l')\n",
        "print(\"Count of 'l':\", count_l)\n",
        "\n",
        "# index()\n",
        "index_of_World = my_string.index('World')\n",
        "print(\"Index of 'World':\", index_of_World)\n",
        "\n",
        "# find()\n",
        "find_World = my_string.find('World')\n",
        "print(\"Find 'World':\", find_World)\n",
        "\n",
        "# isalpha()\n",
        "is_alpha = \"Hello\".isalpha()\n",
        "print(\"Is 'Hello' alpha?:\", is_alpha)\n",
        "\n",
        "# isalnum()\n",
        "is_alnum = \"Hello123\".isalnum()\n",
        "print(\"Is 'Hello123' alnum?:\", is_alnum)\n",
        "is_alnum = \"Hello123#%\".isalnum()\n",
        "print(\"Is 'Hello123#%' alnum?:\", is_alnum)\n",
        "\n",
        "# isdigit()\n",
        "is_digit = \"12345\".isdigit()\n",
        "print(\"Is '12345' digit?:\", is_digit)\n",
        "\n",
        "# islower()\n",
        "is_lower = \"hello\".islower()\n",
        "print(\"Is 'hello' lower?:\", is_lower)\n",
        "\n",
        "# isupper()\n",
        "is_upper = \"HELLO\".isupper()\n",
        "print(\"Is 'HELLO' upper?:\", is_upper)\n"
      ],
      "metadata": {
        "colab": {
          "base_uri": "https://localhost:8080/"
        },
        "id": "wK5RErgjZgYG",
        "outputId": "4e453710-be7c-4d78-e7f9-faa0e87c7f21"
      },
      "execution_count": null,
      "outputs": [
        {
          "output_type": "stream",
          "name": "stdout",
          "text": [
            "After strip(): Hello World!\n",
            "After strip() of 2: Hello    World!\n",
            "After lower():       hello world!     \n",
            "After upper():       HELLO WORLD!     \n",
            "After replace:       Hello replaced!     \n",
            "After split(): ['Hello', 'World!']\n",
            "After capitalize():       hello world!     \n",
            "Capitalize() for Hello World!: Hello world!\n",
            "Capitalize() for hello World!: Hello world!\n",
            "Count of 'l': 3\n",
            "Index of 'World': 12\n",
            "Find 'World': 12\n",
            "Is 'Hello' alpha?: True\n",
            "Is 'Hello123' alnum?: True\n",
            "Is 'Hello123#%' alnum?: False\n",
            "Is '12345' digit?: True\n",
            "Is 'hello' lower?: True\n",
            "Is 'HELLO' upper?: True\n"
          ]
        }
      ]
    },
    {
      "cell_type": "markdown",
      "source": [
        "**Index Vs Find:**\n",
        "---\n",
        "\n",
        "index()\n",
        "Usage: index(substring, start, end)\n",
        "\n",
        "Returns: The index of the first occurrence of the specified substring.\n",
        "\n",
        "Raises: Raises a ValueError if the substring is not found.\n",
        "\n",
        "find()\n",
        "Usage: find(substring, start, end)\n",
        "\n",
        "Returns: The index of the first occurrence of the specified substring.\n",
        "\n",
        "Returns: Returns -1 if the substring is not found.1\n",
        "\n",
        "**So:**\n",
        "\n",
        "---\n",
        "index() raises a ValueError if the substring is not found.\n",
        "\n",
        "find() returns -1 if the substring is not found, so it doesn't raise an exception.\n",
        "**Then:**\n",
        "\n",
        "---\n",
        "Use index() when you expect the substring to be present and want an exception to be raised if it's not.\n",
        "\n",
        "Use find() when you want to check for the presence of a substring and handle cases where it might not be present without dealing with exceptions.\n"
      ],
      "metadata": {
        "id": "EShvK_jseU5W"
      }
    },
    {
      "cell_type": "markdown",
      "source": [
        "# **Shallow Copy vs Deep Copy**\n"
      ],
      "metadata": {
        "id": "avUzgwSzemkC"
      }
    },
    {
      "cell_type": "markdown",
      "source": [
        "1st, equal operator: In Python, Assignment statements do not copy objects, they create bindings between a target and an object. When we use the = operator, It only creates a new variable that shares the reference of the original object\n",
        "\n",
        "2nd, shallow copy: it constructs a new compound object and then inserts references into it to the objects found in the original.\n",
        "\n",
        "3rd, deep copy: it constructs a new compound object and then, inserts copies (the elements themselves not just refrences) into it of the objects found in the original.\n",
        "\n",
        "we can use the copy module in Python.\n",
        "\n",
        "Syntax of Python Deepcopy:\n",
        "Syntax: object.deepcopy(x)\n",
        "\n",
        "Syntax of Python Shallowcopy:\n",
        "Syntax: object.copy(x)\n",
        "\n",
        "refrences:\n",
        "\n",
        "https://www.geeksforgeeks.org/copy-python-deep-copy-shallow-copy/\n",
        "\n",
        "https://docs.python.org/3/library/copy.html#:~:text=The%20difference%20between%20shallow%20and%20deep%20copying\n"
      ],
      "metadata": {
        "id": "e8bD_rSJlGt4"
      }
    },
    {
      "cell_type": "markdown",
      "source": [
        "# Write a program that accepts a sequence of comma-separated numbers from user and generates a  list and a tuple with those numbers\n"
      ],
      "metadata": {
        "id": "dJheZFOWjMPi"
      }
    },
    {
      "cell_type": "code",
      "source": [
        "numbers_input = input(\"Enter a sequence of comma-separated numbers: \")\n",
        "\n",
        "numbers_list = numbers_input.split(',')\n",
        "\n",
        "numbers_tuple = tuple(numbers_list)\n",
        "\n",
        "print(\"List of numbers:\", numbers_list)\n",
        "print(\"Tuple of numbers:\", numbers_tuple)\n"
      ],
      "metadata": {
        "colab": {
          "base_uri": "https://localhost:8080/"
        },
        "id": "KIFee1p-jPE6",
        "outputId": "ca92f02c-f9f2-4f60-c63f-783827eeefc3"
      },
      "execution_count": null,
      "outputs": [
        {
          "output_type": "stream",
          "name": "stdout",
          "text": [
            "Enter a sequence of comma-separated numbers: 1,2,3,4,5\n",
            "List of numbers: ['1', '2', '3', '4', '5']\n",
            "Tuple of numbers: ('1', '2', '3', '4', '5')\n"
          ]
        }
      ]
    }
  ]
}