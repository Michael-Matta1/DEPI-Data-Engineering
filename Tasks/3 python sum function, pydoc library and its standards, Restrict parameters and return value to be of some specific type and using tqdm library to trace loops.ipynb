{
  "nbformat": 4,
  "nbformat_minor": 0,
  "metadata": {
    "colab": {
      "provenance": [],
      "collapsed_sections": [
        "fPQ49TgX2cAr",
        "drRWwTgJ3mHS",
        "TmuEe70e7ovq",
        "qynIjEPrrCCg"
      ],
      "toc_visible": true
    },
    "kernelspec": {
      "name": "python3",
      "display_name": "Python 3"
    },
    "language_info": {
      "name": "python"
    }
  },
  "cells": [
    {
      "cell_type": "markdown",
      "source": [
        "# Done durung the session:"
      ],
      "metadata": {
        "id": "fPQ49TgX2cAr"
      }
    },
    {
      "cell_type": "code",
      "source": [
        "mylist = [1,2,3,4,5]\n",
        "sum=0\n",
        "evensum=0\n",
        "for num in mylist:\n",
        "    sum += num\n",
        "    if num%2==0:\n",
        "      evensum+=num\n",
        "print(\"total sum is\",sum)\n",
        "print(\"the sum of eves is\",evensum)"
      ],
      "metadata": {
        "colab": {
          "base_uri": "https://localhost:8080/"
        },
        "id": "W2TvGgZb2jmS",
        "outputId": "4ea0179e-d534-4f06-a5d4-254be48e5982"
      },
      "execution_count": null,
      "outputs": [
        {
          "output_type": "stream",
          "name": "stdout",
          "text": [
            "total sum is 15\n",
            "the sum of eves is 6\n"
          ]
        }
      ]
    },
    {
      "cell_type": "code",
      "source": [
        "list2=[\"apple\",\"banana\",\"cherry\",\"date\",\"fig\",\"grebe\"]\n",
        "output=[]\n",
        "for word in list2:\n",
        "  flag=0\n",
        "  temp=[]\n",
        "  for letter in word:\n",
        "    if letter in temp:\n",
        "      flag=1\n",
        "      continue\n",
        "    else:\n",
        "      temp.append(letter)\n",
        "  if flag==0:\n",
        "    output.append(word)\n",
        "print(output)"
      ],
      "metadata": {
        "colab": {
          "base_uri": "https://localhost:8080/"
        },
        "id": "SDNxK5_n2kHs",
        "outputId": "facc5679-e719-4efc-d2e2-2d41eaf6b7d1"
      },
      "execution_count": null,
      "outputs": [
        {
          "output_type": "stream",
          "name": "stdout",
          "text": [
            "['date', 'fig']\n"
          ]
        }
      ]
    },
    {
      "cell_type": "markdown",
      "source": [
        "# python **sum** function"
      ],
      "metadata": {
        "id": "drRWwTgJ3mHS"
      }
    },
    {
      "cell_type": "markdown",
      "source": [
        "The time complexity of the sum function in Python is O(n) accoriding to https://www.prepbytes.com/blog/python/sum-function-in-python/#:~:text=The%20time%20complexity%20of%20the%20sum%20function%20in%20Python%20is%20O(n) and https://stackoverflow.com/questions/20135093/what-is-the-time-complexity-of-sum-in-python\n",
        "\n",
        "but even though loops and sum function have same complexity, the sum function is faster because it's a built in function that's written in c and desn't need to be interpreted according to : https://stackoverflow.com/questions/24578896/python-built-in-sum-function-vs-for-loop-performance"
      ],
      "metadata": {
        "id": "ctcAaz9q3upr"
      }
    },
    {
      "cell_type": "code",
      "source": [],
      "metadata": {
        "id": "CfFjjE3g3qUb"
      },
      "execution_count": null,
      "outputs": []
    },
    {
      "cell_type": "markdown",
      "source": [
        "# pydoc library and its standards"
      ],
      "metadata": {
        "id": "TmuEe70e7ovq"
      }
    },
    {
      "cell_type": "markdown",
      "source": [
        "The pydoc module automatically generates documentation.It could generate web pages from your Python documentation and can also launch a web server.\n",
        "\n",
        "it's part of the Python standard library, so you don't have to install it. There's no need to import it into the code but in this case we need to use terminal to use it.\n",
        "\n",
        "in jupyter you can use ```!python -m pydoc ```\n",
        "\n",
        "\n",
        "It doesn't create documentation on its own; it just derives it from docstrings.\n",
        "\n",
        "docstring is: a string, usually in triple quotes, that documents classes, modules, or functions. If there are no docstrings in your code, pydoc will use comments to generate documentation.\n",
        "\n",
        "docstrings are accessible from the doc attribute (__doc__) for any of the Python objects and also with the built-in help() function.\n",
        "\n",
        "There are no rules and regulations for selecting a Docstring format, but the consistency of choosing the same format over the project is necessary.\n",
        "\n",
        "Sphinx is the easy and traditional style, verbose, and was initially created specifically for Python Documentation. Sphinx uses a reStructured Text, which is similar in usage to Markdown.\n",
        "\n",
        "sphinx example:\n",
        "```\n",
        "class Vehicle(object):\n",
        "    '''\n",
        "    The Vehicle object contains lots of vehicles\n",
        "    :param arg: The arg is used for ...\n",
        "    :type arg: str\n",
        "    :param `*args`: The variable arguments are used for ...\n",
        "    :param `**kwargs`: The keyword arguments are used for ...\n",
        "    :ivar arg: This is where we store arg\n",
        "    :vartype arg: str\n",
        "    '''\n",
        "\n",
        "\n",
        "    def __init__(self, arg, *args, **kwargs):\n",
        "        self.arg = arg\n",
        "\n",
        "    def cars(self, distance, destination):\n",
        "        '''We can't travel a certain distance in vehicles without fuels, so here's the fuels\n",
        "\n",
        "        :param distance: The amount of distance traveled\n",
        "        :type amount: int\n",
        "        :param bool destinationReached: Should the fuels be refilled to cover required distance?\n",
        "        :raises: :class:`RuntimeError`: Out of fuel\n",
        "\n",
        "        :returns: A Car mileage\n",
        "        :rtype: Cars\n",
        "        '''  \n",
        "        pass\n",
        "```\n",
        "\n",
        "\n",
        "\n",
        "\n",
        "\n",
        "\n",
        "refrences:\n",
        "\n",
        "https://hyperskill.org/learn/step/18505\n",
        "\n",
        "https://www.datacamp.com/tutorial/docstrings-python\n",
        "\n",
        "https://docs.python.org/3/library/pydoc.html"
      ],
      "metadata": {
        "id": "18PQ5Il8dV7W"
      }
    },
    {
      "cell_type": "code",
      "source": [
        "!python -m pydoc"
      ],
      "metadata": {
        "colab": {
          "base_uri": "https://localhost:8080/"
        },
        "id": "rfVTbU1CiPJs",
        "outputId": "74fa2ed9-bfa8-4a84-ab91-4ae5b25ce8cf"
      },
      "execution_count": null,
      "outputs": [
        {
          "output_type": "stream",
          "name": "stdout",
          "text": [
            "pydoc - the Python documentation tool\n",
            "\n",
            "pydoc <name> ...\n",
            "    Show text documentation on something.  <name> may be the name of a\n",
            "    Python keyword, topic, function, module, or package, or a dotted\n",
            "    reference to a class or function within a module or module in a\n",
            "    package.  If <name> contains a '/', it is used as the path to a\n",
            "    Python source file to document. If name is 'keywords', 'topics',\n",
            "    or 'modules', a listing of these things is displayed.\n",
            "\n",
            "pydoc -k <keyword>\n",
            "    Search for a keyword in the synopsis lines of all available modules.\n",
            "\n",
            "pydoc -n <hostname>\n",
            "    Start an HTTP server with the given hostname (default: localhost).\n",
            "\n",
            "pydoc -p <port>\n",
            "    Start an HTTP server on the given port on the local machine.  Port\n",
            "    number 0 can be used to get an arbitrary unused port.\n",
            "\n",
            "pydoc -b\n",
            "    Start an HTTP server on an arbitrary unused port and open a web browser\n",
            "    to interactively browse documentation.  This option can be used in\n",
            "    combination with -n and/or -p.\n",
            "\n",
            "pydoc -w <name> ...\n",
            "    Write out the HTML documentation for a module to a file in the current\n",
            "    directory.  If <name> contains a '/', it is treated as a filename; if\n",
            "    it names a directory, documentation is written for all the contents.\n",
            "\n"
          ]
        }
      ]
    },
    {
      "cell_type": "code",
      "source": [
        "!python -m pydoc glob"
      ],
      "metadata": {
        "colab": {
          "base_uri": "https://localhost:8080/"
        },
        "id": "BGqtA02qikUh",
        "outputId": "284a264c-b859-49de-a21a-c142f36f0b68"
      },
      "execution_count": null,
      "outputs": [
        {
          "output_type": "stream",
          "name": "stdout",
          "text": [
            "Help on module glob:\n",
            "\n",
            "N\bNA\bAM\bME\bE\n",
            "    glob - Filename globbing utility.\n",
            "\n",
            "M\bMO\bOD\bDU\bUL\bLE\bE \b R\bRE\bEF\bFE\bER\bRE\bEN\bNC\bCE\bE\n",
            "    https://docs.python.org/3.10/library/glob.html\n",
            "    \n",
            "    The following documentation is automatically generated from the Python\n",
            "    source files.  It may be incomplete, incorrect or include features that\n",
            "    are considered implementation detail and may vary between Python\n",
            "    implementations.  When in doubt, consult the module reference at the\n",
            "    location listed above.\n",
            "\n",
            "F\bFU\bUN\bNC\bCT\bTI\bIO\bON\bNS\bS\n",
            "    e\bes\bsc\bca\bap\bpe\be(pathname)\n",
            "        Escape all special characters.\n",
            "    \n",
            "    g\bgl\blo\bob\bb(pathname, *, root_dir=None, dir_fd=None, recursive=False)\n",
            "        Return a list of paths matching a pathname pattern.\n",
            "        \n",
            "        The pattern may contain simple shell-style wildcards a la\n",
            "        fnmatch. However, unlike fnmatch, filenames starting with a\n",
            "        dot are special cases that are not matched by '*' and '?'\n",
            "        patterns.\n",
            "        \n",
            "        If recursive is true, the pattern '**' will match any files and\n",
            "        zero or more directories and subdirectories.\n",
            "    \n",
            "    i\big\bgl\blo\bob\bb(pathname, *, root_dir=None, dir_fd=None, recursive=False)\n",
            "        Return an iterator which yields the paths matching a pathname pattern.\n",
            "        \n",
            "        The pattern may contain simple shell-style wildcards a la\n",
            "        fnmatch. However, unlike fnmatch, filenames starting with a\n",
            "        dot are special cases that are not matched by '*' and '?'\n",
            "        patterns.\n",
            "        \n",
            "        If recursive is true, the pattern '**' will match any files and\n",
            "        zero or more directories and subdirectories.\n",
            "\n",
            "D\bDA\bAT\bTA\bA\n",
            "    _\b__\b_a\bal\bll\bl_\b__\b_ = ['glob', 'iglob', 'escape']\n",
            "\n",
            "F\bFI\bIL\bLE\bE\n",
            "    /usr/lib/python3.10/glob.py\n",
            "\n",
            "\n"
          ]
        }
      ]
    },
    {
      "cell_type": "code",
      "source": [
        "def add_two_numbers(a, b):\n",
        "    \"\"\"\n",
        "    This function takes two numbers and returns their sum.\n",
        "\n",
        "    Parameters:\n",
        "    a (int or float): The first number.\n",
        "    b (int or float): The second number.\n",
        "\n",
        "    Returns:\n",
        "    int or float: The sum of the two numbers.\n",
        "    \"\"\"\n",
        "    return a + b\n"
      ],
      "metadata": {
        "id": "2_po3Vewkpym"
      },
      "execution_count": null,
      "outputs": []
    },
    {
      "cell_type": "code",
      "source": [
        "help(add_two_numbers)"
      ],
      "metadata": {
        "colab": {
          "base_uri": "https://localhost:8080/"
        },
        "id": "-4L7MrSGkyn6",
        "outputId": "00caeb96-a16e-4baf-f330-d466826f09dc"
      },
      "execution_count": null,
      "outputs": [
        {
          "output_type": "stream",
          "name": "stdout",
          "text": [
            "Help on function add_two_numbers in module __main__:\n",
            "\n",
            "add_two_numbers(a, b)\n",
            "    This function takes two numbers and returns their sum.\n",
            "    \n",
            "    Parameters:\n",
            "    a (int or float): The first number.\n",
            "    b (int or float): The second number.\n",
            "    \n",
            "    Returns:\n",
            "    int or float: The sum of the two numbers.\n",
            "\n"
          ]
        }
      ]
    },
    {
      "cell_type": "code",
      "source": [
        "!python -m pydoc add_two_numbers\n"
      ],
      "metadata": {
        "colab": {
          "base_uri": "https://localhost:8080/"
        },
        "id": "KA7D5Zzmk3P9",
        "outputId": "49285408-c72f-44b4-84f9-24a2dc945a38"
      },
      "execution_count": null,
      "outputs": [
        {
          "output_type": "stream",
          "name": "stdout",
          "text": [
            "No Python documentation found for 'add_two_numbers'.\n",
            "Use help() to get the interactive help utility.\n",
            "Use help(str) for help on the str class.\n",
            "\n"
          ]
        }
      ]
    },
    {
      "cell_type": "markdown",
      "source": [
        "seems like we need to save the function in a python script first before using pydoc"
      ],
      "metadata": {
        "id": "nedBeDbspHnz"
      }
    },
    {
      "cell_type": "code",
      "source": [
        "!python"
      ],
      "metadata": {
        "colab": {
          "base_uri": "https://localhost:8080/"
        },
        "id": "hAOPjz-0pdpq",
        "outputId": "529f54da-e1d8-4b73-a9a7-4af91cbe6f72"
      },
      "execution_count": null,
      "outputs": [
        {
          "output_type": "stream",
          "name": "stdout",
          "text": [
            "Python 3.10.12 (main, Nov 20 2023, 15:14:05) [GCC 11.4.0] on linux\n",
            "Type \"help\", \"copyright\", \"credits\" or \"license\" for more information.\n",
            ">>> def add_two_numbers(a, b):     \"\"\"     This function takes two numbers and returns their sum.          Parameters:     a (int or float): The first number.     b (int or float): The second number.          Returns:     int or float: The sum of the two numbers.     \"\"\"     return a + b\n",
            "  File \"<stdin>\", line 1\n",
            "    def add_two_numbers(a, b):     \"\"\"     This function takes two numbers and returns their sum.          Parameters:     a (int or float): The first number.     b (int or float): The second number.          Returns:     int or float: The sum of the two numbers.     \"\"\"     return a + b\n",
            "                                                                                                                                                                                                                                                                                    ^^^^^^\n",
            "SyntaxError: invalid syntax\n",
            ">>> def add_two_numbers(a, b):     \"\"\"     This function takes two numbers and returns their sum.          Parameters:     a (int or float): The first number.     b (int or float): The second number.          Returns:     int or float: The sum of the two numbers.     \"\"\"     return a + b\n",
            "  File \"<stdin>\", line 1\n",
            "    def add_two_numbers(a, b):     \"\"\"     This function takes two numbers and returns their sum.          Parameters:     a (int or float): The first number.     b (int or float): The second number.          Returns:     int or float: The sum of the two numbers.     \"\"\"     return a + b\n",
            "                                                                                                                                                                                                                                                                                    ^^^^^^\n",
            "SyntaxError: invalid syntax\n",
            ">>> def add_two_numbers(a, b):\n",
            "... \"\"\"     This function takes two numbers and returns their sum.          Parameters:     a (int or float): The first number.     b (int or float): The second number.          Returns:     int or float: The sum of the two numbers.     \"\"\"\n",
            "  File \"<stdin>\", line 2\n",
            "    \"\"\"     This function takes two numbers and returns their sum.          Parameters:     a (int or float): The first number.     b (int or float): The second number.          Returns:     int or float: The sum of the two numbers.     \"\"\"\n",
            "    ^\n",
            "IndentationError: expected an indented block after function definition on line 1\n",
            ">>> def add_two_numbers(a, b):\n",
            "... \"\"\"test\"\"\"\n",
            "  File \"<stdin>\", line 2\n",
            "    \"\"\"test\"\"\"\n",
            "    ^\n",
            "IndentationError: expected an indented block after function definition on line 1\n",
            ">>> def add_two_numbers(a, b):\n",
            "...     \"\"\"test\"\"\"\n",
            "... return a + b\n",
            "  File \"<stdin>\", line 3\n",
            "    return a + b\n",
            "    ^^^^^^\n",
            "SyntaxError: invalid syntax\n",
            ">>> def add_two_numbers(a, b):\n",
            "...     \"\"\"test\"\"\"\n",
            "...     return a + b\n",
            "... \n",
            ">>> import pydoc\n",
            ">>> pydoc.help(add_two_numbers)\n",
            "Help on function add_two_numbers in module __main__:\n",
            "\n",
            "a\bad\bdd\bd_\b_t\btw\bwo\bo_\b_n\bnu\bum\bmb\bbe\ber\brs\bs(a, b)\n",
            "    test\n",
            "\n",
            ">>> def add_two_numbaers(a, b):\n",
            "...     #test\n",
            "...     return a + b\n",
            "... \n",
            ">>> pydoc.help(add_two_numbaers)\n",
            "Help on function add_two_numbaers in module __main__:\n",
            "\n",
            "a\bad\bdd\bd_\b_t\btw\bwo\bo_\b_n\bnu\bum\bmb\bba\bae\ber\brs\bs(a, b)\n",
            "\n",
            ">>> \n",
            "KeyboardInterrupt\n",
            ">>> \n",
            "KeyboardInterrupt\n",
            ">>> ^C\n"
          ]
        }
      ]
    },
    {
      "cell_type": "markdown",
      "source": [
        "# Restrict parameters and return value to be of some specific type"
      ],
      "metadata": {
        "id": "qynIjEPrrCCg"
      }
    },
    {
      "cell_type": "markdown",
      "source": [
        "if we used ```func(x:int)``` alone, the ```: int``` will be considered as just an \"annotation\" designed as a form of comment that  programs use to analyze code. It is presumed to have a format and indicate the type of the variable but is ignored by the interpreter.They can be considered as just hints.\n",
        "\n",
        "But tools like mypy can use type hints to perform static type checking, catching type-related errors before runtime.\n",
        "\n",
        "for example\n",
        "\n",
        "```\n",
        "def sum(x: int, y: int) -> int:\n",
        "    return x + y\n",
        "```\n",
        "```x:int```  specifies that the argument x should be of type int.\n",
        "\n",
        "```-> int``` indicates that the function square returns an int\n",
        "\n",
        "\n",
        "resources:\n",
        "\n",
        "https://stackoverflow.com/questions/56847717/what-does-x-int-1-0-do\n",
        "\n",
        "https://stackoverflow.com/questions/54962869/function-parameter-with-colon\n",
        "\n"
      ],
      "metadata": {
        "id": "pyk4HAGxr_9q"
      }
    },
    {
      "cell_type": "code",
      "source": [
        "!pip install mypy"
      ],
      "metadata": {
        "colab": {
          "base_uri": "https://localhost:8080/"
        },
        "id": "zbSFqOJWt1Jh",
        "outputId": "5a7c6b1d-ed6b-4901-a076-7b357fd89749"
      },
      "execution_count": null,
      "outputs": [
        {
          "output_type": "stream",
          "name": "stdout",
          "text": [
            "Collecting mypy\n",
            "  Downloading mypy-1.10.1-cp310-cp310-manylinux_2_17_x86_64.manylinux2014_x86_64.whl (12.7 MB)\n",
            "\u001b[2K     \u001b[90m━━━━━━━━━━━━━━━━━━━━━━━━━━━━━━━━━━━━━━━━\u001b[0m \u001b[32m12.7/12.7 MB\u001b[0m \u001b[31m42.5 MB/s\u001b[0m eta \u001b[36m0:00:00\u001b[0m\n",
            "\u001b[?25hRequirement already satisfied: typing-extensions>=4.1.0 in /usr/local/lib/python3.10/dist-packages (from mypy) (4.12.2)\n",
            "Collecting mypy-extensions>=1.0.0 (from mypy)\n",
            "  Downloading mypy_extensions-1.0.0-py3-none-any.whl (4.7 kB)\n",
            "Requirement already satisfied: tomli>=1.1.0 in /usr/local/lib/python3.10/dist-packages (from mypy) (2.0.1)\n",
            "Installing collected packages: mypy-extensions, mypy\n",
            "Successfully installed mypy-1.10.1 mypy-extensions-1.0.0\n"
          ]
        }
      ]
    },
    {
      "cell_type": "markdown",
      "source": [
        "mypy can be used to check errors before runtime"
      ],
      "metadata": {
        "id": "kAaOH49CwDck"
      }
    },
    {
      "cell_type": "markdown",
      "source": [
        "to catch type errors during run time we can use ```pydantic``` or ```typeguard``` or ```enforce```"
      ],
      "metadata": {
        "id": "nreoSZFkwIAG"
      }
    },
    {
      "cell_type": "code",
      "source": [
        "!pip install typeguard"
      ],
      "metadata": {
        "colab": {
          "base_uri": "https://localhost:8080/"
        },
        "id": "vZA8WqaNwdmi",
        "outputId": "72c3fc5d-dc9c-4652-e7ea-7edd256563e5"
      },
      "execution_count": null,
      "outputs": [
        {
          "output_type": "stream",
          "name": "stdout",
          "text": [
            "Requirement already satisfied: typeguard in /usr/local/lib/python3.10/dist-packages (4.3.0)\n",
            "Requirement already satisfied: typing-extensions>=4.10.0 in /usr/local/lib/python3.10/dist-packages (from typeguard) (4.12.2)\n"
          ]
        }
      ]
    },
    {
      "cell_type": "code",
      "source": [
        "from typeguard import typechecked\n",
        "\n",
        "@typechecked\n",
        "def add2nums(x: int, y: int) -> int:\n",
        "    return x + y\n"
      ],
      "metadata": {
        "colab": {
          "base_uri": "https://localhost:8080/",
          "height": 339
        },
        "id": "6UlMHDwRr_JB",
        "outputId": "557bf2fb-fabc-4b81-cf0c-d8016c6b45e3"
      },
      "execution_count": null,
      "outputs": [
        {
          "output_type": "error",
          "ename": "TypeError",
          "evalue": "<module '__main__'> is a built-in module",
          "traceback": [
            "\u001b[0;31m---------------------------------------------------------------------------\u001b[0m",
            "\u001b[0;31mTypeError\u001b[0m                                 Traceback (most recent call last)",
            "\u001b[0;32m<ipython-input-114-d21b4ecb0379>\u001b[0m in \u001b[0;36m<cell line: 3>\u001b[0;34m()\u001b[0m\n\u001b[1;32m      2\u001b[0m \u001b[0;34m\u001b[0m\u001b[0m\n\u001b[1;32m      3\u001b[0m \u001b[0;34m@\u001b[0m\u001b[0mtypechecked\u001b[0m\u001b[0;34m\u001b[0m\u001b[0;34m\u001b[0m\u001b[0m\n\u001b[0;32m----> 4\u001b[0;31m \u001b[0;32mdef\u001b[0m \u001b[0madd2nums\u001b[0m\u001b[0;34m(\u001b[0m\u001b[0mx\u001b[0m\u001b[0;34m:\u001b[0m \u001b[0mint\u001b[0m\u001b[0;34m,\u001b[0m \u001b[0my\u001b[0m\u001b[0;34m:\u001b[0m \u001b[0mint\u001b[0m\u001b[0;34m)\u001b[0m \u001b[0;34m->\u001b[0m \u001b[0mint\u001b[0m\u001b[0;34m:\u001b[0m\u001b[0;34m\u001b[0m\u001b[0;34m\u001b[0m\u001b[0m\n\u001b[0m\u001b[1;32m      5\u001b[0m     \u001b[0;32mreturn\u001b[0m \u001b[0mx\u001b[0m \u001b[0;34m+\u001b[0m \u001b[0my\u001b[0m\u001b[0;34m\u001b[0m\u001b[0;34m\u001b[0m\u001b[0m\n",
            "\u001b[0;32m/usr/local/lib/python3.10/dist-packages/typeguard/_decorators.py\u001b[0m in \u001b[0;36mtypechecked\u001b[0;34m(target, forward_ref_policy, typecheck_fail_callback, collection_check_strategy, debug_instrumentation)\u001b[0m\n\u001b[1;32m    221\u001b[0m         \u001b[0mtarget\u001b[0m \u001b[0;34m=\u001b[0m \u001b[0mtarget\u001b[0m\u001b[0;34m.\u001b[0m\u001b[0m__func__\u001b[0m\u001b[0;34m\u001b[0m\u001b[0;34m\u001b[0m\u001b[0m\n\u001b[1;32m    222\u001b[0m \u001b[0;34m\u001b[0m\u001b[0m\n\u001b[0;32m--> 223\u001b[0;31m     \u001b[0mretval\u001b[0m \u001b[0;34m=\u001b[0m \u001b[0minstrument\u001b[0m\u001b[0;34m(\u001b[0m\u001b[0mtarget\u001b[0m\u001b[0;34m)\u001b[0m\u001b[0;34m\u001b[0m\u001b[0;34m\u001b[0m\u001b[0m\n\u001b[0m\u001b[1;32m    224\u001b[0m     \u001b[0;32mif\u001b[0m \u001b[0misinstance\u001b[0m\u001b[0;34m(\u001b[0m\u001b[0mretval\u001b[0m\u001b[0;34m,\u001b[0m \u001b[0mstr\u001b[0m\u001b[0;34m)\u001b[0m\u001b[0;34m:\u001b[0m\u001b[0;34m\u001b[0m\u001b[0;34m\u001b[0m\u001b[0m\n\u001b[1;32m    225\u001b[0m         warn(\n",
            "\u001b[0;32m/usr/local/lib/python3.10/dist-packages/typeguard/_decorators.py\u001b[0m in \u001b[0;36minstrument\u001b[0;34m(f)\u001b[0m\n\u001b[1;32m     69\u001b[0m \u001b[0;34m\u001b[0m\u001b[0m\n\u001b[1;32m     70\u001b[0m     \u001b[0mtarget_path\u001b[0m \u001b[0;34m=\u001b[0m \u001b[0;34m[\u001b[0m\u001b[0mitem\u001b[0m \u001b[0;32mfor\u001b[0m \u001b[0mitem\u001b[0m \u001b[0;32min\u001b[0m \u001b[0mf\u001b[0m\u001b[0;34m.\u001b[0m\u001b[0m__qualname__\u001b[0m\u001b[0;34m.\u001b[0m\u001b[0msplit\u001b[0m\u001b[0;34m(\u001b[0m\u001b[0;34m\".\"\u001b[0m\u001b[0;34m)\u001b[0m \u001b[0;32mif\u001b[0m \u001b[0mitem\u001b[0m \u001b[0;34m!=\u001b[0m \u001b[0;34m\"<locals>\"\u001b[0m\u001b[0;34m]\u001b[0m\u001b[0;34m\u001b[0m\u001b[0;34m\u001b[0m\u001b[0m\n\u001b[0;32m---> 71\u001b[0;31m     \u001b[0mmodule_source\u001b[0m \u001b[0;34m=\u001b[0m \u001b[0minspect\u001b[0m\u001b[0;34m.\u001b[0m\u001b[0mgetsource\u001b[0m\u001b[0;34m(\u001b[0m\u001b[0msys\u001b[0m\u001b[0;34m.\u001b[0m\u001b[0mmodules\u001b[0m\u001b[0;34m[\u001b[0m\u001b[0mf\u001b[0m\u001b[0;34m.\u001b[0m\u001b[0m__module__\u001b[0m\u001b[0;34m]\u001b[0m\u001b[0;34m)\u001b[0m\u001b[0;34m\u001b[0m\u001b[0;34m\u001b[0m\u001b[0m\n\u001b[0m\u001b[1;32m     72\u001b[0m     \u001b[0mmodule_ast\u001b[0m \u001b[0;34m=\u001b[0m \u001b[0mast\u001b[0m\u001b[0;34m.\u001b[0m\u001b[0mparse\u001b[0m\u001b[0;34m(\u001b[0m\u001b[0mmodule_source\u001b[0m\u001b[0;34m)\u001b[0m\u001b[0;34m\u001b[0m\u001b[0;34m\u001b[0m\u001b[0m\n\u001b[1;32m     73\u001b[0m     \u001b[0minstrumentor\u001b[0m \u001b[0;34m=\u001b[0m \u001b[0mTypeguardTransformer\u001b[0m\u001b[0;34m(\u001b[0m\u001b[0mtarget_path\u001b[0m\u001b[0;34m,\u001b[0m \u001b[0mf\u001b[0m\u001b[0;34m.\u001b[0m\u001b[0m__code__\u001b[0m\u001b[0;34m.\u001b[0m\u001b[0mco_firstlineno\u001b[0m\u001b[0;34m)\u001b[0m\u001b[0;34m\u001b[0m\u001b[0;34m\u001b[0m\u001b[0m\n",
            "\u001b[0;32m/usr/lib/python3.10/inspect.py\u001b[0m in \u001b[0;36mgetsource\u001b[0;34m(object)\u001b[0m\n\u001b[1;32m   1137\u001b[0m     \u001b[0;32mor\u001b[0m \u001b[0mcode\u001b[0m \u001b[0mobject\u001b[0m\u001b[0;34m.\u001b[0m  \u001b[0mThe\u001b[0m \u001b[0msource\u001b[0m \u001b[0mcode\u001b[0m \u001b[0;32mis\u001b[0m \u001b[0mreturned\u001b[0m \u001b[0;32mas\u001b[0m \u001b[0ma\u001b[0m \u001b[0msingle\u001b[0m \u001b[0mstring\u001b[0m\u001b[0;34m.\u001b[0m  \u001b[0mAn\u001b[0m\u001b[0;34m\u001b[0m\u001b[0;34m\u001b[0m\u001b[0m\n\u001b[1;32m   1138\u001b[0m     OSError is raised if the source code cannot be retrieved.\"\"\"\n\u001b[0;32m-> 1139\u001b[0;31m     \u001b[0mlines\u001b[0m\u001b[0;34m,\u001b[0m \u001b[0mlnum\u001b[0m \u001b[0;34m=\u001b[0m \u001b[0mgetsourcelines\u001b[0m\u001b[0;34m(\u001b[0m\u001b[0mobject\u001b[0m\u001b[0;34m)\u001b[0m\u001b[0;34m\u001b[0m\u001b[0;34m\u001b[0m\u001b[0m\n\u001b[0m\u001b[1;32m   1140\u001b[0m     \u001b[0;32mreturn\u001b[0m \u001b[0;34m''\u001b[0m\u001b[0;34m.\u001b[0m\u001b[0mjoin\u001b[0m\u001b[0;34m(\u001b[0m\u001b[0mlines\u001b[0m\u001b[0;34m)\u001b[0m\u001b[0;34m\u001b[0m\u001b[0;34m\u001b[0m\u001b[0m\n\u001b[1;32m   1141\u001b[0m \u001b[0;34m\u001b[0m\u001b[0m\n",
            "\u001b[0;32m/usr/lib/python3.10/inspect.py\u001b[0m in \u001b[0;36mgetsourcelines\u001b[0;34m(object)\u001b[0m\n\u001b[1;32m   1119\u001b[0m     raised if the source code cannot be retrieved.\"\"\"\n\u001b[1;32m   1120\u001b[0m     \u001b[0mobject\u001b[0m \u001b[0;34m=\u001b[0m \u001b[0munwrap\u001b[0m\u001b[0;34m(\u001b[0m\u001b[0mobject\u001b[0m\u001b[0;34m)\u001b[0m\u001b[0;34m\u001b[0m\u001b[0;34m\u001b[0m\u001b[0m\n\u001b[0;32m-> 1121\u001b[0;31m     \u001b[0mlines\u001b[0m\u001b[0;34m,\u001b[0m \u001b[0mlnum\u001b[0m \u001b[0;34m=\u001b[0m \u001b[0mfindsource\u001b[0m\u001b[0;34m(\u001b[0m\u001b[0mobject\u001b[0m\u001b[0;34m)\u001b[0m\u001b[0;34m\u001b[0m\u001b[0;34m\u001b[0m\u001b[0m\n\u001b[0m\u001b[1;32m   1122\u001b[0m \u001b[0;34m\u001b[0m\u001b[0m\n\u001b[1;32m   1123\u001b[0m     \u001b[0;32mif\u001b[0m \u001b[0mistraceback\u001b[0m\u001b[0;34m(\u001b[0m\u001b[0mobject\u001b[0m\u001b[0;34m)\u001b[0m\u001b[0;34m:\u001b[0m\u001b[0;34m\u001b[0m\u001b[0;34m\u001b[0m\u001b[0m\n",
            "\u001b[0;32m/usr/lib/python3.10/inspect.py\u001b[0m in \u001b[0;36mfindsource\u001b[0;34m(object)\u001b[0m\n\u001b[1;32m    938\u001b[0m     is raised if the source code cannot be retrieved.\"\"\"\n\u001b[1;32m    939\u001b[0m \u001b[0;34m\u001b[0m\u001b[0m\n\u001b[0;32m--> 940\u001b[0;31m     \u001b[0mfile\u001b[0m \u001b[0;34m=\u001b[0m \u001b[0mgetsourcefile\u001b[0m\u001b[0;34m(\u001b[0m\u001b[0mobject\u001b[0m\u001b[0;34m)\u001b[0m\u001b[0;34m\u001b[0m\u001b[0;34m\u001b[0m\u001b[0m\n\u001b[0m\u001b[1;32m    941\u001b[0m     \u001b[0;32mif\u001b[0m \u001b[0mfile\u001b[0m\u001b[0;34m:\u001b[0m\u001b[0;34m\u001b[0m\u001b[0;34m\u001b[0m\u001b[0m\n\u001b[1;32m    942\u001b[0m         \u001b[0;31m# Invalidate cache if needed.\u001b[0m\u001b[0;34m\u001b[0m\u001b[0;34m\u001b[0m\u001b[0m\n",
            "\u001b[0;32m/usr/lib/python3.10/inspect.py\u001b[0m in \u001b[0;36mgetsourcefile\u001b[0;34m(object)\u001b[0m\n\u001b[1;32m    815\u001b[0m     \u001b[0mReturn\u001b[0m \u001b[0;32mNone\u001b[0m \u001b[0;32mif\u001b[0m \u001b[0mno\u001b[0m \u001b[0mway\u001b[0m \u001b[0mcan\u001b[0m \u001b[0mbe\u001b[0m \u001b[0midentified\u001b[0m \u001b[0mto\u001b[0m \u001b[0mget\u001b[0m \u001b[0mthe\u001b[0m \u001b[0msource\u001b[0m\u001b[0;34m.\u001b[0m\u001b[0;34m\u001b[0m\u001b[0;34m\u001b[0m\u001b[0m\n\u001b[1;32m    816\u001b[0m     \"\"\"\n\u001b[0;32m--> 817\u001b[0;31m     \u001b[0mfilename\u001b[0m \u001b[0;34m=\u001b[0m \u001b[0mgetfile\u001b[0m\u001b[0;34m(\u001b[0m\u001b[0mobject\u001b[0m\u001b[0;34m)\u001b[0m\u001b[0;34m\u001b[0m\u001b[0;34m\u001b[0m\u001b[0m\n\u001b[0m\u001b[1;32m    818\u001b[0m     \u001b[0mall_bytecode_suffixes\u001b[0m \u001b[0;34m=\u001b[0m \u001b[0mimportlib\u001b[0m\u001b[0;34m.\u001b[0m\u001b[0mmachinery\u001b[0m\u001b[0;34m.\u001b[0m\u001b[0mDEBUG_BYTECODE_SUFFIXES\u001b[0m\u001b[0;34m[\u001b[0m\u001b[0;34m:\u001b[0m\u001b[0;34m]\u001b[0m\u001b[0;34m\u001b[0m\u001b[0;34m\u001b[0m\u001b[0m\n\u001b[1;32m    819\u001b[0m     \u001b[0mall_bytecode_suffixes\u001b[0m \u001b[0;34m+=\u001b[0m \u001b[0mimportlib\u001b[0m\u001b[0;34m.\u001b[0m\u001b[0mmachinery\u001b[0m\u001b[0;34m.\u001b[0m\u001b[0mOPTIMIZED_BYTECODE_SUFFIXES\u001b[0m\u001b[0;34m[\u001b[0m\u001b[0;34m:\u001b[0m\u001b[0;34m]\u001b[0m\u001b[0;34m\u001b[0m\u001b[0;34m\u001b[0m\u001b[0m\n",
            "\u001b[0;32m/usr/lib/python3.10/inspect.py\u001b[0m in \u001b[0;36mgetfile\u001b[0;34m(object)\u001b[0m\n\u001b[1;32m    776\u001b[0m         \u001b[0;32mif\u001b[0m \u001b[0mgetattr\u001b[0m\u001b[0;34m(\u001b[0m\u001b[0mobject\u001b[0m\u001b[0;34m,\u001b[0m \u001b[0;34m'__file__'\u001b[0m\u001b[0;34m,\u001b[0m \u001b[0;32mNone\u001b[0m\u001b[0;34m)\u001b[0m\u001b[0;34m:\u001b[0m\u001b[0;34m\u001b[0m\u001b[0;34m\u001b[0m\u001b[0m\n\u001b[1;32m    777\u001b[0m             \u001b[0;32mreturn\u001b[0m \u001b[0mobject\u001b[0m\u001b[0;34m.\u001b[0m\u001b[0m__file__\u001b[0m\u001b[0;34m\u001b[0m\u001b[0;34m\u001b[0m\u001b[0m\n\u001b[0;32m--> 778\u001b[0;31m         \u001b[0;32mraise\u001b[0m \u001b[0mTypeError\u001b[0m\u001b[0;34m(\u001b[0m\u001b[0;34m'{!r} is a built-in module'\u001b[0m\u001b[0;34m.\u001b[0m\u001b[0mformat\u001b[0m\u001b[0;34m(\u001b[0m\u001b[0mobject\u001b[0m\u001b[0;34m)\u001b[0m\u001b[0;34m)\u001b[0m\u001b[0;34m\u001b[0m\u001b[0;34m\u001b[0m\u001b[0m\n\u001b[0m\u001b[1;32m    779\u001b[0m     \u001b[0;32mif\u001b[0m \u001b[0misclass\u001b[0m\u001b[0;34m(\u001b[0m\u001b[0mobject\u001b[0m\u001b[0;34m)\u001b[0m\u001b[0;34m:\u001b[0m\u001b[0;34m\u001b[0m\u001b[0;34m\u001b[0m\u001b[0m\n\u001b[1;32m    780\u001b[0m         \u001b[0;32mif\u001b[0m \u001b[0mhasattr\u001b[0m\u001b[0;34m(\u001b[0m\u001b[0mobject\u001b[0m\u001b[0;34m,\u001b[0m \u001b[0;34m'__module__'\u001b[0m\u001b[0;34m)\u001b[0m\u001b[0;34m:\u001b[0m\u001b[0;34m\u001b[0m\u001b[0;34m\u001b[0m\u001b[0m\n",
            "\u001b[0;31mTypeError\u001b[0m: <module '__main__'> is a built-in module"
          ]
        }
      ]
    },
    {
      "cell_type": "code",
      "source": [
        "add2nums(\"hello\", 5)"
      ],
      "metadata": {
        "colab": {
          "base_uri": "https://localhost:8080/",
          "height": 141
        },
        "id": "WaEUsd1YrRWT",
        "outputId": "b271e752-df21-4286-b62f-297b6e7aeef3"
      },
      "execution_count": null,
      "outputs": [
        {
          "output_type": "error",
          "ename": "NameError",
          "evalue": "name 'add2nums' is not defined",
          "traceback": [
            "\u001b[0;31m---------------------------------------------------------------------------\u001b[0m",
            "\u001b[0;31mNameError\u001b[0m                                 Traceback (most recent call last)",
            "\u001b[0;32m<ipython-input-115-6b8e0a5e8dd4>\u001b[0m in \u001b[0;36m<cell line: 1>\u001b[0;34m()\u001b[0m\n\u001b[0;32m----> 1\u001b[0;31m \u001b[0madd2nums\u001b[0m\u001b[0;34m(\u001b[0m\u001b[0;34m\"hello\"\u001b[0m\u001b[0;34m,\u001b[0m \u001b[0;36m5\u001b[0m\u001b[0;34m)\u001b[0m\u001b[0;34m\u001b[0m\u001b[0;34m\u001b[0m\u001b[0m\n\u001b[0m",
            "\u001b[0;31mNameError\u001b[0m: name 'add2nums' is not defined"
          ]
        }
      ]
    },
    {
      "cell_type": "markdown",
      "source": [
        "i think there's a conflict with other libraries here in colab but the code is tested on my pc and worked properly"
      ],
      "metadata": {
        "id": "XewfdH391clu"
      }
    },
    {
      "cell_type": "markdown",
      "source": [
        "# using tqdm library to trace loops"
      ],
      "metadata": {
        "id": "oJQEJ-Jtlbt-"
      }
    },
    {
      "cell_type": "markdown",
      "source": [
        "Using TQDM library in python, you can wrap your loops or iterators with a progress bar, allowing you to track the progress of your code execution. It provides an intuitive and visually appealing progress bar that shows the percentage of completion, estimated time remaining, and other relevant information.\n",
        "\n",
        "You simply import the library, wrap your iterable with the tqdm() function\n",
        "\n",
        "source:\n",
        "https://www.analyticsvidhya.com/blog/2021/05/how-to-use-progress-bars-in-python/#:~:text=Using%20TQDM%20library%20in%20python%2C%20you%20can%20wrap%20your%20loops,remaining%2C%20and%20other%20relevant%20information."
      ],
      "metadata": {
        "id": "xI2CaZT_mD6R"
      }
    },
    {
      "cell_type": "code",
      "source": [
        "!pip install tqdm\n",
        "!pip install time\n",
        "from tqdm import tqdm\n",
        "import time\n",
        "\n",
        "# Example: using tqdm with a for loop\n",
        "for i in tqdm(range(100), desc=\"Processing\"):\n",
        "    time.sleep(0.1) # used to suspend the execution of the current thread for a specified number of seconds. This is useful when you want to introduce a delay in your code.\n"
      ],
      "metadata": {
        "colab": {
          "base_uri": "https://localhost:8080/"
        },
        "id": "jL3Jl_kFl46B",
        "outputId": "b0574f11-774c-4ad9-cbfa-5492296fbbeb"
      },
      "execution_count": null,
      "outputs": [
        {
          "output_type": "stream",
          "name": "stdout",
          "text": [
            "Requirement already satisfied: tqdm in /usr/local/lib/python3.10/dist-packages (4.66.4)\n",
            "\u001b[31mERROR: Could not find a version that satisfies the requirement time (from versions: none)\u001b[0m\u001b[31m\n",
            "\u001b[0m\u001b[31mERROR: No matching distribution found for time\u001b[0m\u001b[31m\n",
            "\u001b[0m"
          ]
        },
        {
          "output_type": "stream",
          "name": "stderr",
          "text": [
            "Processing: 100%|██████████| 100/100 [00:10<00:00,  9.82it/s]\n"
          ]
        }
      ]
    }
  ]
}