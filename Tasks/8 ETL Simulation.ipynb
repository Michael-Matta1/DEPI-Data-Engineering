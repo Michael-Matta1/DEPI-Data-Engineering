{
  "nbformat": 4,
  "nbformat_minor": 0,
  "metadata": {
    "colab": {
      "provenance": []
    },
    "kernelspec": {
      "name": "python3",
      "display_name": "Python 3"
    },
    "language_info": {
      "name": "python"
    }
  },
  "cells": [
    {
      "cell_type": "code",
      "execution_count": null,
      "metadata": {
        "colab": {
          "base_uri": "https://localhost:8080/"
        },
        "id": "FwH8NewlFlW8",
        "outputId": "bcee3956-da3c-4fa3-981d-8499d51b9872"
      },
      "outputs": [
        {
          "output_type": "stream",
          "name": "stdout",
          "text": [
            "Files have been generated successfully.\n"
          ]
        }
      ],
      "source": [
        "import os\n",
        "\n",
        "separators = [',', '|', '$', '%', '#', '&', '*', '.', ';', ':']\n",
        "\n",
        "name = [\"Ahmed\", \"Essam\", \"Azab\"]\n",
        "\n",
        "input_dir  = \"generated_files\"\n",
        "os.makedirs(input_dir , exist_ok=True)\n",
        "\n",
        "for i in range(1, 11):\n",
        "    separator = separators[i - 1]  # Select the separator for this file\n",
        "    content = f\"{i}{separator}{separator.join(name)}\"\n",
        "\n",
        "    file_name = f\"{i}.txt\"\n",
        "    file_path = os.path.join(input_dir , file_name)\n",
        "\n",
        "    with open(file_path, 'w') as file:\n",
        "        file.write(content)\n",
        "\n",
        "print(\"Files have been generated successfully.\")"
      ]
    },
    {
      "cell_type": "code",
      "source": [
        "for i in range(1, 11):\n",
        "    file_name = f\"{i}.txt\"\n",
        "    file_path = os.path.join(input_dir , file_name)\n",
        "\n",
        "    with open(file_path, 'r') as file:\n",
        "        content = file.read()\n",
        "\n",
        "    # Replace the separator with a space\n",
        "    separator = separators[i - 1]\n",
        "    updated_content = content.replace(separator, ' ')\n",
        "\n",
        "    with open(file_path, 'w') as file:\n",
        "        file.write(updated_content)\n",
        "\n",
        "print(\"Separators have been replaced with spaces in all files.\")"
      ],
      "metadata": {
        "colab": {
          "base_uri": "https://localhost:8080/"
        },
        "id": "Ue5Qn0LQGSi_",
        "outputId": "70c5e7b6-b71c-4fe2-e39f-1aa473be09a9"
      },
      "execution_count": null,
      "outputs": [
        {
          "output_type": "stream",
          "name": "stdout",
          "text": [
            "Separators have been replaced with spaces in all files.\n"
          ]
        }
      ]
    },
    {
      "cell_type": "code",
      "source": [
        "output_dir = \"csv_files\"\n",
        "os.makedirs(output_dir, exist_ok=True)\n",
        "for i in range(1, 11):\n",
        "    file_name = f\"{i}.txt\"\n",
        "    file_path = os.path.join(input_dir, file_name)\n",
        "    csv_file_path = os.path.join(output_dir, f\"{i}.csv\")\n",
        "\n",
        "    with open(file_path, 'r') as file:\n",
        "        content = file.read()\n",
        "\n",
        "    parts = content.split(\" \")\n",
        "    file_id = parts[0]\n",
        "    name = ' '.join(parts[1:])\n",
        "\n",
        "\n",
        "    with open(csv_file_path, 'w') as csvfile:\n",
        "        csvfile.write(\"ID,name\\n\")\n",
        "        csvfile.write(f\"{file_id}, {name}\\n\")\n",
        "\n",
        "print(\"Files have been transformed into CSV format successfully.\")"
      ],
      "metadata": {
        "id": "YpS-xjDSHIEz",
        "colab": {
          "base_uri": "https://localhost:8080/"
        },
        "outputId": "dda722f0-d255-4ac0-a5ca-2655d77c2e06"
      },
      "execution_count": null,
      "outputs": [
        {
          "output_type": "stream",
          "name": "stdout",
          "text": [
            "Files have been transformed into CSV format successfully.\n"
          ]
        }
      ]
    },
    {
      "cell_type": "code",
      "source": [
        "ls"
      ],
      "metadata": {
        "colab": {
          "base_uri": "https://localhost:8080/"
        },
        "id": "Bxf6hftBNYlA",
        "outputId": "9d7b9e09-2eea-4f33-9697-7077f66e3a07"
      },
      "execution_count": null,
      "outputs": [
        {
          "output_type": "stream",
          "name": "stdout",
          "text": [
            "\u001b[0m\u001b[01;34mcsv_files\u001b[0m/  \u001b[01;34mgenerated_files\u001b[0m/  \u001b[01;34msample_data\u001b[0m/\n"
          ]
        }
      ]
    },
    {
      "cell_type": "code",
      "source": [
        "cd csv_files"
      ],
      "metadata": {
        "colab": {
          "base_uri": "https://localhost:8080/"
        },
        "id": "2OP_orIjNY_s",
        "outputId": "677a99f1-d47c-423b-efcc-6d9cb5943b15"
      },
      "execution_count": null,
      "outputs": [
        {
          "output_type": "stream",
          "name": "stdout",
          "text": [
            "/content/csv_files\n"
          ]
        }
      ]
    },
    {
      "cell_type": "code",
      "source": [
        "cat 1.csv"
      ],
      "metadata": {
        "colab": {
          "base_uri": "https://localhost:8080/"
        },
        "id": "OrWo2kTONp7F",
        "outputId": "d1b942f1-09bd-422b-fb95-e44a07f03528"
      },
      "execution_count": null,
      "outputs": [
        {
          "output_type": "stream",
          "name": "stdout",
          "text": [
            "ID,name\n",
            "1, Ahmed Essam Azab\n"
          ]
        }
      ]
    },
    {
      "cell_type": "code",
      "source": [
        "cd .."
      ],
      "metadata": {
        "colab": {
          "base_uri": "https://localhost:8080/"
        },
        "id": "kimroswjNr4K",
        "outputId": "51e106bd-60a3-4440-af08-6caf62e09a5b"
      },
      "execution_count": null,
      "outputs": [
        {
          "output_type": "stream",
          "name": "stdout",
          "text": [
            "/content\n"
          ]
        }
      ]
    }
  ]
}