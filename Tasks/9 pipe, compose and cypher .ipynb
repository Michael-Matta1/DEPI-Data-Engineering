{
  "nbformat": 4,
  "nbformat_minor": 0,
  "metadata": {
    "colab": {
      "provenance": []
    },
    "kernelspec": {
      "name": "python3",
      "display_name": "Python 3"
    },
    "language_info": {
      "name": "python"
    }
  },
  "cells": [
    {
      "cell_type": "markdown",
      "source": [
        "https://realpython.com/python-lazy-evaluation/#what-are-examples-of-lazy-evaluation-in-python"
      ],
      "metadata": {
        "id": "3GXVMCZ67Rs6"
      }
    },
    {
      "cell_type": "code",
      "execution_count": null,
      "metadata": {
        "id": "8-NXaGrwj8sb"
      },
      "outputs": [],
      "source": [
        "from toolz import pipe, compose\n",
        "\n",
        "add_7 = lambda x: x + 7\n",
        "square = lambda x: x ** 2\n",
        "subtract_2 = lambda x: x - 2\n",
        "multiply_5 = lambda x: x * 5"
      ]
    },
    {
      "cell_type": "code",
      "source": [
        "f = compose(multiply_5, subtract_2, square, add_7)\n",
        "result = f(3)\n",
        "print(result)"
      ],
      "metadata": {
        "colab": {
          "base_uri": "https://localhost:8080/"
        },
        "id": "BzpPWue7m_qz",
        "outputId": "08f6c610-114a-4e42-aeb9-74aa19a31349"
      },
      "execution_count": null,
      "outputs": [
        {
          "output_type": "stream",
          "name": "stdout",
          "text": [
            "490\n"
          ]
        }
      ]
    },
    {
      "cell_type": "code",
      "source": [
        "result = pipe(3, add_7, square, subtract_2, multiply_5)\n",
        "print(result)"
      ],
      "metadata": {
        "colab": {
          "base_uri": "https://localhost:8080/"
        },
        "id": "fodlx0x8nGxe",
        "outputId": "fd494484-b4f8-4fd1-9f2d-73d9068e61be"
      },
      "execution_count": null,
      "outputs": [
        {
          "output_type": "stream",
          "name": "stdout",
          "text": [
            "490\n"
          ]
        }
      ]
    },
    {
      "cell_type": "code",
      "source": [
        "replace_7 = lambda s: s.replace('7', 't')\n",
        "replace_3 = lambda s: s.replace('3', 'e')\n",
        "replace_4 = lambda s: s.replace('4', 'a')\n",
        "replace_6 = lambda s: s.replace('6', 'g')\n",
        "def replace_chinese(s):\n",
        "    result = []\n",
        "\n",
        "    for c in s:\n",
        "        if ord(c) > 127:\n",
        "            result.append(' ')\n",
        "        else:\n",
        "            result.append(c)\n",
        "\n",
        "    return ''.join(result)\n",
        "\n",
        "\n",
        "decode = lambda s: pipe(s, replace_7, replace_3, replace_4, replace_6, replace_chinese)\n",
        "\n",
        "encoded_strings = [\n",
        "    \"7his所is家4没s4mpl3动m3ss463\",\n",
        "    \"don7家73ll经4nyon3法7his现m3ss463\",\n",
        "    \"w3现4r3当b3in6进so好s3cr3t\",\n",
        "    \"733小h33成h33去nobody看is天on分7o理us\",\n",
        "    \"w3么will面n3v3r分637理c4u6ht\",\n",
        "    \"w3事4r3经such没sn34ky天h4ckers\"\n",
        "]\n",
        "\n",
        "decoded_strings = [decode(s) for s in encoded_strings]\n",
        "\n",
        "for decoded in decoded_strings:\n",
        "    print(decoded)"
      ],
      "metadata": {
        "colab": {
          "base_uri": "https://localhost:8080/"
        },
        "id": "C0EaTb92nQw2",
        "outputId": "d8a3eee4-7b42-41e7-c1dd-361037c9dc39"
      },
      "execution_count": null,
      "outputs": [
        {
          "output_type": "stream",
          "name": "stdout",
          "text": [
            "this is a sample message\n",
            "dont tell anyone this message\n",
            "we are being so secret\n",
            "tee hee hee nobody is on to us\n",
            "we will never get caught\n",
            "we are such sneaky hackers\n"
          ]
        }
      ]
    },
    {
      "cell_type": "code",
      "source": [
        "def letter_to_int(letter):\n",
        "    return ord(letter) - ord('a')\n",
        "\n",
        "def add_13(n):\n",
        "    return (n + 13) % 26 # the %26 is to go back to the beginning if the number exceed 26\n",
        "\n",
        "def int_to_letter(n):\n",
        "    return chr(n + ord('a'))\n",
        "\n",
        "def caesar_cipher(word):\n",
        "    return ''.join( [pipe(letter, letter_to_int, add_13, int_to_letter) for letter in word] )\n",
        "\n",
        "def reverse_caesar_cipher(word):\n",
        "    def subtract_13(n):\n",
        "        return (n - 13) % 26\n",
        "\n",
        "    return ''.join([pipe(letter, letter_to_int, subtract_13, int_to_letter) for letter in word])\n",
        "\n",
        "words = [\"this\", \"is\", \"my\", \"sentence\"]\n",
        "encoded_words = list(map(caesar_cipher, words))\n",
        "decoded_words = list(map(reverse_caesar_cipher, encoded_words))\n",
        "\n",
        "print(\"Encoded words:\", encoded_words)\n",
        "print(\"Decoded words:\", decoded_words)"
      ],
      "metadata": {
        "colab": {
          "base_uri": "https://localhost:8080/"
        },
        "id": "zONyD0v9pTxZ",
        "outputId": "7522e4ba-3254-45f6-e4f8-2a68f2a22cfa"
      },
      "execution_count": null,
      "outputs": [
        {
          "output_type": "stream",
          "name": "stdout",
          "text": [
            "Encoded words: ['guvf', 'vf', 'zl', 'fragrapr']\n",
            "Decoded words: ['this', 'is', 'my', 'sentence']\n"
          ]
        }
      ]
    }
  ]
}