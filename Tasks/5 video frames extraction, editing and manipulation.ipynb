{
  "nbformat": 4,
  "nbformat_minor": 0,
  "metadata": {
    "colab": {
      "provenance": [],
      "collapsed_sections": [
        "1rZ6etQ6HKhG",
        "LwxAaAG-lmj6"
      ],
      "gpuType": "T4"
    },
    "kernelspec": {
      "name": "python3",
      "display_name": "Python 3"
    },
    "language_info": {
      "name": "python"
    }
  },
  "cells": [
    {
      "cell_type": "markdown",
      "source": [
        "#Notes for me\n"
      ],
      "metadata": {
        "id": "1rZ6etQ6HKhG"
      }
    },
    {
      "cell_type": "markdown",
      "source": [
        "### sets vs their elements\n",
        "\n",
        "\n",
        "\n",
        "---\n",
        "\n",
        "(go back to why dictionar keys are immutable to get a better understanding)\n",
        "\n",
        "\n",
        "In Python, sets are collections of unique elements, and they themselves are mutable, meaning you can add or remove elements from a set. However, the elements within a set must be immutable. This requirement ensures that the hash value of the elements remains constant, which is crucial for the set's internal mechanism of checking for uniqueness and membership.\n",
        "\n",
        "---\n",
        "\n",
        "If an element could be changed (mutable), its hash value could also change. This would break the set's internal logic, making it impossible to reliably determine if the modified element is still present in the set.\n",
        "\n",
        "If you were able to insert mutable objects (objects that can change), they could alter their hash value. This would lead to unexpected behavior, as the set would lose track of the elements.\n",
        "\n",
        "If an element in the set is mutable and gets modified, its hash value could change. The set's internal logic depends on the hash value remaining constant to place and locate elements accurately.\n",
        "\n",
        "When you add an element to a set, the set computes the element's hash value and uses it to determine where to store the element.\n",
        "\n",
        "If the element is later modified, its new hash value won't correspond to its original position in the set's hash table. This makes it impossible for the set to reliably determine if the modified element is still present because the set would be looking in the wrong place.\n",
        "\n",
        "The consistency of the set's structure is compromised when elements can change their hash values. This breakage means the set can no longer guarantee the uniqueness of elements or perform efficient lookups.\n",
        "Consequently, operations like checking for membership, adding new elements, and removing elements would not work correctly, leading to unpredictable behavior.\n",
        "\n",
        "---\n",
        "---\n",
        "\n",
        "If elements within a set were mutable and their values were changed, accessing those elements reliably would become problematic due to the reasons mentioned previously. Let's explore this with an example to illustrate the issues:\n",
        "\n",
        "1. **Original State**:\n",
        "   - Suppose you have a set with a mutable element (e.g., a list). In Python, attempting to add a list to a set would raise a `TypeError` because lists are unhashable. However, for the sake of discussion, let's assume Python allows it.\n",
        "   \n",
        "   ```python\n",
        "   mutable_element = [1, 2, 3]\n",
        "   s = {1, 2, 3, mutable_element}  # Hypothetical scenario where this works\n",
        "   ```\n",
        "\n",
        "2. **Modification**:\n",
        "   - If you modify the `mutable_element`, its hash value would change (hypothetically, since lists are unhashable, but assuming they were hashable and mutable).\n",
        "   \n",
        "   ```python\n",
        "   mutable_element.append(4)\n",
        "   ```\n",
        "\n",
        "3. **Accessing Elements**:\n",
        "   - Now, if you try to access the modified element, the set's internal structure would not know where to find it because its hash value has changed.\n",
        "   \n",
        "   ```python\n",
        "   print(mutable_element in s)  # This might print False\n",
        "   ```\n",
        "\n",
        "Let's consider what would happen if Python allowed mutable elements in a set (note that this is a hypothetical scenario, as Python does not actually allow mutable elements in a set):\n",
        "\n",
        "### Hypothetical Example:\n",
        "\n",
        "```python\n",
        "# Hypothetical mutable element in a set\n",
        "mutable_element = [1, 2, 3]\n",
        "s = set()\n",
        "s.add((1, 2, 3))  # Adding tuple instead of list to simulate mutable behavior\n",
        "\n",
        "# Modify the element\n",
        "mutable_element.append(4)  # mutable_element is now [1, 2, 3, 4]\n",
        "\n",
        "# Hypothetical check (assuming set allowed list and the set is still consistent)\n",
        "print((1, 2, 3, 4) in s)  # This would print False because the hash value has changed\n",
        "\n",
        "# Accessing modified element (hypothetical, as it breaks set logic)\n",
        "print(mutable_element in s)  # This might print False\n",
        "```\n",
        "\n",
        "### Real-World Example with Immutable Elements:\n",
        "\n",
        "In the real world, Python enforces immutability for elements in a set. Here's how it works with immutable elements:\n",
        "\n",
        "```python\n",
        "# Using a tuple (immutable) instead of a list\n",
        "immutable_element = (1, 2, 3)\n",
        "s = {1, 2, 3, immutable_element}\n",
        "\n",
        "# Accessing elements works as expected\n",
        "print(immutable_element in s)  # This prints True\n",
        "\n",
        "# Modifying the element is not possible since it's a tuple\n",
        "# immutable_element.append(4)  # AttributeError: 'tuple' object has no attribute 'append'\n",
        "```\n",
        "\n",
        "### Conclusion:\n",
        "\n",
        "- **Mutable Elements**: If Python allowed mutable elements in a set, accessing them after modification would become unreliable and could break the set's internal logic. This is why Python enforces that all elements in a set must be immutable.\n",
        "- **Immutable Elements**: With immutable elements, the set's behavior remains consistent and reliable, allowing efficient membership tests and other set operations.\n",
        "\n",
        "In summary, allowing mutable elements in a set would make it difficult, if not impossible, to reliably access and manage those elements, which is why Python enforces immutability for set elements.\n",
        "\n",
        "---\n",
        "---\n",
        "---\n",
        "\n",
        "The set's internal structure relies on hash values to efficiently store and retrieve elements. Here's why a changed hash value would cause problems:\n",
        "\n",
        "1. **Hash Table Basics**:\n",
        "   - Sets in Python use a hash table for storage. A hash table maps hash values to positions (buckets) in the table.\n",
        "   - When an element is added to a set, its hash value is computed, and this value determines which bucket the element is placed into.\n",
        "\n",
        "2. **Consistency of Hash Values**:\n",
        "   - For the set to efficiently locate an element, the hash value of the element must remain constant. This consistency ensures that the set can use the same hash value to find the element's position in the hash table.\n",
        "\n",
        "3. **Changing Hash Values**:\n",
        "   - If the hash value of an element changes (which would happen if the element is mutable and gets modified), the set would no longer be able to locate the element using its original hash value.\n",
        "   - The set would look in the bucket corresponding to the old hash value, not the new one, leading to a failed lookup.\n",
        "\n",
        "### Example to Illustrate the Issue:\n",
        "\n",
        "Let's assume Python allowed mutable elements in a set (which it does not for good reason). Here's a step-by-step breakdown of what could go wrong:\n",
        "\n",
        "1. **Adding an Element**:\n",
        "   - Initially, we add a mutable element (like a list) to the set:\n",
        "     ```python\n",
        "     mutable_element = [1, 2, 3]\n",
        "     s = {mutable_element}  # Hypothetical scenario\n",
        "     # Let's assume the hash value of [1, 2, 3] is h1\n",
        "     ```\n",
        "\n",
        "2. **Internal Storage**:\n",
        "   - The set stores the element in the bucket corresponding to `h1`.\n",
        "\n",
        "3. **Modifying the Element**:\n",
        "   - We modify the element:\n",
        "     ```python\n",
        "     mutable_element.append(4)\n",
        "     # Now the list is [1, 2, 3, 4]\n",
        "     # Let's assume the new hash value of [1, 2, 3, 4] is h2\n",
        "     ```\n",
        "\n",
        "4. **Lookup Issue**:\n",
        "   - When we try to check for membership:\n",
        "     ```python\n",
        "     print(mutable_element in s)  # Hypothetical scenario\n",
        "     ```\n",
        "   - The set uses the new hash value `h2` to find the element, but the element is stored in the bucket for `h1`.\n",
        "   - Because the element is in a different bucket, the lookup fails, and the set thinks the element is not present.\n",
        "\n",
        "### Real-World Enforcement in Python:\n",
        "\n",
        "In reality, Python enforces that elements of a set must be immutable (and therefore hashable) to prevent this issue. When you attempt to add a mutable object like a list to a set, Python raises a `TypeError`:\n",
        "\n",
        "```python\n",
        "s = {1, 2, 3, [4, 5]}  # Raises TypeError: unhashable type: 'list'\n",
        "```\n",
        "\n",
        "By enforcing immutability, Python ensures that the hash value of each element remains constant, allowing the set to reliably store and retrieve elements.\n",
        "\n",
        "### Conclusion:\n",
        "\n",
        "The set's internal structure relies on consistent hash values to efficiently locate elements. If an element's hash value changes due to mutation, the set would not know where to find the element, leading to unreliable behavior. This is why Python requires set elements to be immutable.\n",
        "\n",
        "---\n",
        "---\n",
        "---\n",
        "\n",
        "Yes, Python uses hash values to access elements in sets. Here’s a detailed explanation of how sets in Python utilize hash values for efficient storage and retrieval:\n",
        "\n",
        "### Hash Table Mechanism\n",
        "\n",
        "1. **Hashing**:\n",
        "   - When an element is added to a set, Python computes the hash value of the element using its `__hash__()` method.\n",
        "   - This hash value is an integer that determines the index (or bucket) in the hash table where the element will be stored.\n",
        "\n",
        "2. **Storing Elements**:\n",
        "   - The hash table is an array-like structure where each element is placed into a specific bucket based on its hash value.\n",
        "   - If two elements have the same hash value (a collision), Python handles this using techniques such as open addressing or chaining.\n",
        "\n",
        "3. **Retrieving Elements**:\n",
        "   - To check if an element exists in the set (e.g., `x in s`), Python computes the hash value of the element and looks in the corresponding bucket.\n",
        "   - If the element is present in the bucket, the lookup is successful; otherwise, it’s not.\n",
        "\n",
        "### Example\n",
        "\n",
        "Here’s a simple example demonstrating how sets use hash values:\n",
        "\n",
        "```python\n",
        "# Create a set with some elements\n",
        "s = {1, 2, 3}\n",
        "\n",
        "# Check for membership\n",
        "print(1 in s)  # Output: True\n",
        "print(4 in s)  # Output: False\n",
        "```\n",
        "\n",
        "### How it Works Internally\n",
        "\n",
        "1. **Adding an Element**:\n",
        "   - When you add `1` to the set, Python computes the hash value of `1` and uses it to determine where to store `1` in the hash table.\n",
        "\n",
        "2. **Checking for Membership**:\n",
        "   - When you check if `1` is in the set, Python computes the hash value of `1` and checks the corresponding bucket.\n",
        "   - If the bucket contains `1`, the result is `True`; otherwise, it’s `False`.\n",
        "\n",
        "### Why Immutability Matters\n",
        "\n",
        "The elements in a set must be immutable for the hash table to function correctly:\n",
        "\n",
        "- **Consistency**: The hash value of an element must remain constant while it is in the set. If the element could change, its hash value could also change, leading to incorrect bucket placement and failed lookups.\n",
        "- **Efficiency**: Hash tables provide average O(1) time complexity for lookups, additions, and deletions. This efficiency relies on the immutability of elements to ensure consistent hash values.\n",
        "\n",
        "### Conclusion\n",
        "\n",
        "Python sets use hash values to access elements efficiently. This hash-based mechanism allows for fast membership tests, additions, and deletions. The requirement for elements to be immutable ensures that their hash values remain constant, maintaining the integrity and performance of the set operations.\n",
        "\n",
        "---\n",
        "---\n",
        "---\n",
        "\n",
        "Elements within a set must be immutable because sets in Python rely on hash values to ensure the uniqueness and quick lookup of elements. Here are the key reasons:\n",
        "\n",
        "1. **Hashing Requirement**:\n",
        "   - Sets use a hash table for storage. Each element in the set is hashed, and the hash value determines the position of the element in the hash table. For an element to be used in a hash table, its hash value must remain constant during its lifetime in the set.\n",
        "   - Mutable objects, like lists or dictionaries, can change their contents, and if they were allowed in a set, their hash value could change, causing inconsistencies in the hash table.\n",
        "\n",
        "2. **Uniqueness and Lookup Efficiency**:\n",
        "   - The primary purpose of a set is to store unique elements and provide efficient membership tests. Immutable objects ensure that the hash value remains constant, making it easy to determine if an element is present in the set.\n",
        "   - If mutable objects were allowed, checking for an element's presence would become unreliable if the object were modified, as its hash value might change, making it difficult to locate in the set.\n",
        "\n",
        "3. **Consistency and Reliability**:\n",
        "   - Allowing only immutable elements ensures that once an element is added to the set, it remains consistent and doesn't cause unexpected behavior if modified. This consistency is crucial for reliable operations on sets, such as union, intersection, and difference.\n",
        "\n",
        "Here's an example demonstrating the issue with mutable elements:\n",
        "\n",
        "```python\n",
        "# Example of hashable, immutable elements\n",
        "s = {(1, 2), (3, 4)}\n",
        "print(s)  # Output: {(1, 2), (3, 4)}\n",
        "\n",
        "# Example attempting to use a mutable element\n",
        "s = {1, 2, [3, 4]}  # Raises TypeError: unhashable type: 'list'\n",
        "```\n",
        "\n",
        "In the second example, attempting to add a list to a set raises a `TypeError` because lists are mutable and thus unhashable. The immutability of elements ensures the integrity and performance of the set operations.\n",
        "\n",
        "\n",
        "---\n",
        "---\n",
        "---\n",
        "\n",
        "If elements within a set were allowed to be mutable, several issues would arise, compromising the integrity and functionality of the set. Here's a detailed explanation of the potential problems:\n",
        "\n",
        "1. **Inconsistent Hashing**:\n",
        "   - Sets rely on the hash values of elements to manage their internal structure. If an element's content changes, its hash value might change as well.\n",
        "   - This inconsistency would lead to an element being misplaced within the set, making it difficult or impossible to locate the element efficiently.\n",
        "\n",
        "2. **Incorrect Membership Tests**:\n",
        "   - When checking for the presence of an element, the set uses the element's hash value. If the element's hash value changes, the set might not be able to find the element even though it exists.\n",
        "   - This could lead to incorrect results for membership tests, making the set unreliable for checking if an element is present.\n",
        "\n",
        "3. **Duplication of Elements**:\n",
        "   - Sets are designed to store unique elements. If an element's content changes, it might produce a hash collision, where different elements have the same hash value.\n",
        "   - Alternatively, changing the content of an element might cause it to appear as a different element, potentially leading to duplicates within the set.\n",
        "\n",
        "4. **Undefined Behavior in Set Operations**:\n",
        "   - Set operations like union, intersection, and difference rely on the immutability of elements to function correctly.\n",
        "   - If elements could change, the outcome of these operations would become unpredictable, leading to undefined behavior and bugs.\n",
        "\n",
        "Here’s an example to illustrate these issues:\n",
        "\n",
        "```python\n",
        "# Attempting to use a mutable element (list) in a set\n",
        "mutable_element = [1, 2, 3]\n",
        "s = {1, 2, 3, mutable_element}\n",
        "\n",
        "# Initially, the mutable_element's hash value is used to place it in the set\n",
        "print(s)  # This would raise a TypeError: unhashable type: 'list'\n",
        "\n",
        "# Hypothetical scenario if mutable elements were allowed\n",
        "mutable_element.append(4)\n",
        "print(s)  # The internal structure of the set is now inconsistent\n",
        "\n",
        "# Membership test fails because the hash value of mutable_element has changed\n",
        "print(mutable_element in s)  # This might print False\n",
        "```\n",
        "\n",
        "In reality, Python raises a `TypeError` when trying to add mutable elements like lists to a set, preventing these issues:\n",
        "\n",
        "```python\n",
        "# Attempting to use a mutable element (list) in a set\n",
        "s = {1, 2, 3, [4, 5]}  # Raises TypeError: unhashable type: 'list'\n",
        "```\n",
        "\n",
        "By enforcing that elements in a set must be immutable, Python ensures the consistency, reliability, and efficiency of set operations.\n",
        "\n",
        "---\n",
        "---\n",
        "---\n",
        "\n",
        "Let's break down why sets with mutable elements would cause issues with checking membership:\n",
        "\n",
        "1. **Hashing Reliance:** Sets rely on a technique called hashing to determine if an element exists. When you add an element to a set, it gets converted into a unique number (hash) based on its current state. This hash is used to quickly locate the element within the set's internal data structure.\n",
        "\n",
        "2. **Mutable Elements, Changing Hashes:** If elements were mutable, they could be modified after being added to the set. This modification could change the element's internal state, which in turn could change its hash value.\n",
        "\n",
        "3. **Broken Lookups:** Now, imagine you want to check if the modified element still exists in the set. The set would use the original hash (based on the element's state when added) to search its internal structure. However, since the element's hash has changed due to modification, the set wouldn't find it at the expected location. This leads to an unreliable membership check.\n",
        "\n",
        "For example, consider a set containing a mutable object like a list `[1, 2]`. If you later modify the list to `[1, 3]`, its hash would likely change. Now, even though the \"core\" data (the numbers 1 and a value) remains partially similar, the set wouldn't recognize it as the same element because the hash doesn't match anymore.\n",
        "\n",
        "In essence, mutability breaks the connection between the element's current state and its initial hashed representation. This disrupts the set's ability to reliably locate and identify the element based on its original hash.\n"
      ],
      "metadata": {
        "id": "WOyQfszmHU4_"
      }
    },
    {
      "cell_type": "markdown",
      "source": [
        "python frozenset\n",
        "---\n",
        "\n",
        "also check this new datatype which is immutable in contrast with the sets\n",
        "\n",
        "https://www.simplilearn.com/tutorials/python-tutorial/set-in-python#:~:text=Output%3A-,Python%20Frozenset,-A%20new%20class"
      ],
      "metadata": {
        "id": "ASEHcAjAI1BQ"
      }
    },
    {
      "cell_type": "markdown",
      "source": [
        "tuples\n",
        "---\n",
        "\n",
        "unlike sets, tuples are immutable but the elements inside them can be mutable or immutable\n",
        "\n",
        "\n",
        "---\n",
        "---\n",
        "---\n",
        "\n",
        "Changing the elements inside a tuple that is used as a key in a dictionary does not directly affect the dictionary's behavior, but it's important to understand a few key points:\n",
        "\n",
        "1. **Immutability of Tuples and Keys**: For a tuple to be used as a key in a dictionary, the tuple itself must be immutable. This means that the tuple's structure (i.e., the number and order of its elements) cannot be changed. If the tuple contains only immutable elements, it will remain a valid dictionary key.\n",
        "\n",
        "2. **Mutable Elements within Tuples**: If a tuple contains mutable elements (such as lists or dictionaries), changes to these mutable elements do not affect the tuple's immutability. However, such mutable elements can lead to inconsistencies if you modify the mutable elements after the tuple has been used as a key in the dictionary.\n",
        "\n",
        "3. **Hash Consistency**: The dictionary relies on the hash value of the key for indexing. If the mutable elements inside a tuple used as a key are modified, it does not affect the hash value of the tuple itself, but it can lead to issues if the dictionary's key-value pair relies on the mutable element's state for lookup or logic. The dictionary might not reflect changes made to mutable elements within the tuple.\n",
        "\n",
        "\n",
        "In general, it is best practice to ensure that the elements of tuples used as dictionary keys are immutable to avoid unexpected behavior and maintain consistent key-value mapping."
      ],
      "metadata": {
        "id": "VRRbjR_OVRQv"
      }
    },
    {
      "cell_type": "code",
      "source": [
        "# Define a tuple containing a list\n",
        "key1 = (1,2,(1, 2, 3))\n",
        "key2 = (1,2,[1, 2, 3])\n",
        "\n",
        "print(type(key1))\n",
        "print(type(key2))\n",
        "\n",
        "# Use the tuple as a dictionary key\n",
        "d1 = {key1: 'value'}\n",
        "#d2 = {key2: 'value'}\n",
        "\n",
        "print(d1)\n",
        "#print(d2)\n",
        "\n",
        "# Modify the mutable element inside the tuple\n",
        "#key1[0]=2\n",
        "print(d1)\n",
        "\n",
        "#key2[0].append(4)\n",
        "#print(d2)\n"
      ],
      "metadata": {
        "colab": {
          "base_uri": "https://localhost:8080/"
        },
        "id": "PNak45lIWxzr",
        "outputId": "5b44966d-0522-4c50-d9a3-aae16e340c89"
      },
      "execution_count": null,
      "outputs": [
        {
          "output_type": "stream",
          "name": "stdout",
          "text": [
            "<class 'tuple'>\n",
            "<class 'tuple'>\n",
            "{(1, 2, (1, 2, 3)): 'value'}\n",
            "{(1, 2, (1, 2, 3)): 'value'}\n"
          ]
        }
      ]
    },
    {
      "cell_type": "markdown",
      "source": [
        "note that using lists produes an error"
      ],
      "metadata": {
        "id": "Kv7DqOvqYsuX"
      }
    },
    {
      "cell_type": "markdown",
      "source": [
        "buffer in openng files\n",
        "---\n",
        "\n",
        "https://stackoverflow.com/questions/29712445/what-is-the-use-of-buffering-in-pythons-built-in-open-function\n",
        "\n",
        "what's the buffer argument in python file io\n",
        "\n",
        "\n",
        "\n",
        "In Python file I/O, the `buffering` argument refers to a parameter you can specify when opening a file that determines the buffering policy. Buffering refers to how much data is read from or written to the file at once. Here's how it works:\n",
        "\n",
        "When you open a file using `open()` function in Python, the syntax is:\n",
        "```python\n",
        "open(file, mode='r', buffering=-1, ...)\n",
        "```\n",
        "\n",
        "Here, `buffering` can take several different values:\n",
        "- **0**: No buffering. Data is written to the file immediately as `write()` methods are called.\n",
        "- **1**: Line buffering. Data is written to the file only when a newline character (`\\n`) is encountered.\n",
        "- **>1**: A positive integer specifies the buffer size in bytes. Data is written to the file once the buffer size is reached.\n",
        "\n",
        "- **-1** or **default**: Use the system default buffering (typically the same as line buffering).\n",
        "\n",
        "The choice of buffering can affect the performance of file operations. For interactive applications or when working with large files, choosing the appropriate buffering strategy can optimize performance and resource usage.\n",
        "\n",
        "Here's an example of how you might use buffering in practice:\n",
        "```python\n",
        "# Open a file with line buffering\n",
        "with open('example.txt', 'w', buffering=1) as f:\n",
        "    f.write('Hello\\n')\n",
        "    f.write('World\\n')\n",
        "```\n",
        "\n",
        "In this example, since `buffering=1`, data will be written to the file only when a newline (`\\n`) is encountered, which means each `write()` operation will be flushed (written to disk) immediately after encountering a newline character.\n",
        "\n",
        "Understanding and specifying the `buffering` argument correctly can help you optimize your file I/O operations based on your application's needs.\n",
        "\n",
        "In Python file I/O, the `buffering` argument primarily affects how data is written to a file. However, its effect on reading mode (`'r'`) is minimal because buffering primarily concerns how data is written (output) rather than read (input). Let's break down how buffering works in relation to reading mode:\n",
        "\n",
        "1. **Default Behavior**: When you open a file in reading mode (`'r'`), the default `buffering` value is `-1`, which means it uses the system default buffering behavior. This default behavior is typically a reasonable compromise for reading files efficiently.\n",
        "\n",
        "2. **Buffering in Reading Mode**:\n",
        "   - Buffering in reading mode (`'r'`) generally affects how the operating system reads data from the file into memory. Python's `open()` function allows you to specify a buffer size (a positive integer) for reading as well, though its impact may vary across different operating systems and implementations.\n",
        "   - In practice, when reading from a file, Python will use an internal buffer to minimize system calls and optimize read operations. This behavior is often transparent to the programmer unless explicitly specified.\n",
        "\n",
        "3. **Choosing Buffering Size**:\n",
        "   - If you specify a positive integer for `buffering`, Python will attempt to use that buffer size when reading from the file. This can potentially speed up file reads if you know you will be reading large chunks of data sequentially.\n",
        "   - However, the exact performance gain can vary depending on factors such as the file size, disk speed, and system architecture.\n",
        "\n",
        "4. **Effect on Read Operations**:\n",
        "   - For most practical purposes, when reading files in Python (`'r'` mode), the choice of `buffering` value typically has minimal impact on how data is read from the file. The default system-level buffering is generally optimized for reading operations.\n",
        "   - Unlike writing operations where immediate flushing or line buffering can be crucial, reading operations usually benefit from efficient buffering strategies implemented by the Python runtime.\n",
        "\n",
        "In summary, while the `buffering` argument in Python's `open()` function primarily affects how data is written to a file (especially in writing modes `'w'`, `'a'`, etc.), its influence on reading mode (`'r'`) is indirect and minimal. The default buffering behavior in reading mode is typically optimized for efficient reading operations, and specific buffering sizes may have limited noticeable effects on read performance in most scenarios.\n"
      ],
      "metadata": {
        "id": "NMDT4ZepbQ92"
      }
    },
    {
      "cell_type": "markdown",
      "source": [
        "class\n",
        "---\n",
        "\n",
        "class vs struct\n",
        "\n",
        "do c++ have both calss and struct?\n",
        "\n",
        "what's the difference between python class & c struct\n",
        "\n",
        "\n",
        "https://www.youtube.com/watch?v=fLgTtaqqJp0\n",
        "\n",
        "https://www.youtube.com/watch?v=q8miRwgpVuk\n",
        "\n",
        "https://www.youtube.com/watch?v=-Y3ksSH9wm4\n",
        "\n",
        "\n",
        "---\n",
        "\n",
        "https://stackoverflow.com/questions/29712445/what-is-the-use-of-buffering-in-pythons-built-in-open-function\n",
        "\n",
        "---\n",
        "\n",
        "In many programming languages, including C++, C#, and Swift, `class` and `struct` are keywords used to define custom data types, but they have some fundamental differences in their behavior and usage:\n",
        "\n",
        "### Similarities:\n",
        "\n",
        "1. **Both can hold data**: Both `class` and `struct` can define data members to store information.\n",
        "\n",
        "2. **Both can have methods**: They can both define functions (methods) to operate on their data members.\n",
        "\n",
        "### Differences:\n",
        "\n",
        "1. **Inheritance**:\n",
        "   - **Class**: Supports inheritance. One class can inherit characteristics from another class.\n",
        "   - **Struct**: Typically does not support inheritance (except in certain languages like C++). It's usually used for lightweight data structures.\n",
        "\n",
        "2. **Memory management**:\n",
        "   - **Class**: Instances are usually reference types. When you pass a class instance around, you're passing a reference to it.\n",
        "   - **Struct**: Instances are usually value types. When you pass a struct instance around, you're passing a copy of it (though some languages optimize this with copy-on-write).\n",
        "\n",
        "3. **Default Access Level**:\n",
        "   - **Class**: In languages like C++, members default to private. In languages like C# and Swift, members default to internal.\n",
        "   - **Struct**: In languages like C++, members default to public. In languages like C# and Swift, members default to internal.\n",
        "\n",
        "4. **Usage**:\n",
        "   - **Class**: Use classes when you need reference semantics, inheritance, or when the type is large and complex.\n",
        "   - **Struct**: Use structs for small data structures that are primarily intended to encapsulate small amounts of data. They are often used for immutability and when passing by value is advantageous.\n",
        "\n",
        "### Example (C++ syntax):\n",
        "\n",
        "```cpp\n",
        "// Class example\n",
        "class MyClass {\n",
        "public:\n",
        "    int x;\n",
        "    void printX() {\n",
        "        std::cout << \"X: \" << x << std::endl;\n",
        "    }\n",
        "};\n",
        "\n",
        "// Struct example\n",
        "struct MyStruct {\n",
        "    int x;\n",
        "    void printX() {\n",
        "        std::cout << \"X: \" << x << std::endl;\n",
        "    }\n",
        "};\n",
        "\n",
        "int main() {\n",
        "    MyClass obj1;\n",
        "    obj1.x = 5;\n",
        "    obj1.printX();  // Outputs: X: 5\n",
        "\n",
        "    MyStruct obj2;\n",
        "    obj2.x = 10;\n",
        "    obj2.printX();  // Outputs: X: 10\n",
        "\n",
        "    return 0;\n",
        "}\n",
        "```\n",
        "\n",
        "### Guidelines for choosing between `class` and `struct`:\n",
        "\n",
        "- **Use `class`** when:\n",
        "  - You need inheritance.\n",
        "  - You need to create large objects (as classes are usually reference types).\n",
        "  - You want to create instances that live longer than the scope in which they are created.\n",
        "\n",
        "- **Use `struct`** when:\n",
        "  - You have a small data structure that contains primarily data.\n",
        "  - You want value semantics.\n",
        "  - You want to ensure that the object is copied when passed around.\n",
        "\n",
        "Understanding these differences helps in choosing the appropriate keyword (`class` or `struct`) based on your specific programming needs and goals.\n",
        "\n",
        "\n",
        "---\n",
        "\n",
        "\n",
        "Yes, in C++, both `class` and `struct` are available as keywords to define custom data types, but they have slightly different default access levels for their members:\n",
        "\n",
        "### Class:\n",
        "- By default, members (variables and functions) of a class are **private** if no access specifier is specified.\n",
        "- Classes are typically used for larger, more complex data structures and for defining objects with methods that operate on the data.\n",
        "\n",
        "Example:\n",
        "```cpp\n",
        "class MyClass {\n",
        "public:\n",
        "    int x;\n",
        "    void printX() {\n",
        "        std::cout << \"X: \" << x << std::endl;\n",
        "    }\n",
        "};\n",
        "```\n",
        "\n",
        "### Struct:\n",
        "- By default, members of a struct are **public** if no access specifier is specified.\n",
        "- Structs are commonly used for smaller data structures and are often used when simple data encapsulation is needed.\n",
        "\n",
        "Example:\n",
        "```cpp\n",
        "struct MyStruct {\n",
        "    int x;\n",
        "    void printX() {\n",
        "        std::cout << \"X: \" << x << std::endl;\n",
        "    }\n",
        "};\n",
        "```\n",
        "\n",
        "### Similarities:\n",
        "- Both classes and structs can contain data members (variables) and member functions (methods).\n",
        "- Both can use access specifiers (`public`, `private`, `protected`) to control access to their members.\n",
        "\n",
        "### Differences:\n",
        "- Historically, structs were intended for simple data structures, and classes for more complex data and behavior. However, in modern C++, the distinction is primarily about default access levels and tradition rather than functionality.\n",
        "\n",
        "### Usage:\n",
        "- Choose `class` when you want to define a more complex object with private members and potentially use inheritance.\n",
        "- Choose `struct` when you want to define a simple data structure or when backward compatibility with C code is a concern.\n",
        "\n",
        "In practice, many C++ developers use `struct` and `class` interchangeably based on their personal or team coding conventions.\n",
        "\n",
        "---\n",
        "\n",
        "\n",
        "In many programming languages, including C++, C#, and Swift, the terms \"value type\" and \"reference type\" refer to how variables of those types are stored and passed around in memory. Here’s what each term means in the context of `struct` and `class`:\n",
        "\n",
        "### Struct (Value Type):\n",
        "\n",
        "- **Storage**: Instances of structs are stored directly where they are declared or where they are passed. Each variable of a struct type holds its own copy of the data.\n",
        "- **Memory**: When you assign a struct variable to another, a copy of the entire struct is made. Changes to one copy do not affect the others.\n",
        "- **Passing**: When you pass a struct to a function or assign it to another variable, you're passing the entire data by value (copying it).\n",
        "- **Example**: In C++, `struct` types are typically passed by value.\n",
        "\n",
        "```cpp\n",
        "struct Point {\n",
        "    int x;\n",
        "    int y;\n",
        "};\n",
        "\n",
        "Point p1 = {1, 2};\n",
        "Point p2 = p1; // p2 is a copy of p1\n",
        "p2.x = 5;      // Changes p2.x, p1.x remains 1\n",
        "```\n",
        "\n",
        "### Class (Reference Type):\n",
        "\n",
        "- **Storage**: Instances of classes are stored in memory, and variables of class type hold references (or pointers) to where the actual object data is stored.\n",
        "- **Memory**: When you assign a class variable to another, you're copying the reference (or pointer), not the actual data. Both variables refer to the same object in memory.\n",
        "- **Passing**: When you pass a class instance to a function or assign it to another variable, you're passing a reference to the same object. Changes to the object through one variable affect all references to that object.\n",
        "- **Example**: In C++, classes are reference types when used with pointers or references explicitly.\n",
        "\n",
        "```cpp\n",
        "class MyClass {\n",
        "public:\n",
        "    int x;\n",
        "    int y;\n",
        "};\n",
        "\n",
        "MyClass obj1;\n",
        "obj1.x = 1;\n",
        "obj1.y = 2;\n",
        "\n",
        "MyClass obj2 = obj1; // obj2 is a copy of obj1 (copy constructor or assignment operator may be called)\n",
        "obj2.x = 5;          // Changes obj2.x, obj1.x also changes because they refer to the same object\n",
        "```\n",
        "\n",
        "### Summary:\n",
        "\n",
        "- **Struct** is a value type because when you work with a struct, you're working directly with its data, and copying a struct variable means duplicating its data.\n",
        "- **Class** is a reference type because when you work with a class, you're working with references to its data, and copying a class variable means duplicating its reference (not its data).\n",
        "\n",
        "Understanding whether a type is a value type or a reference type helps in determining how variables of that type behave when assigned, passed to functions, or otherwise manipulated in your program. This distinction is particularly important for memory management and understanding the implications of copying variables in your code."
      ],
      "metadata": {
        "id": "HT3UwscNbW1g"
      }
    },
    {
      "cell_type": "markdown",
      "source": [
        "# Assignment\n",
        "\n"
      ],
      "metadata": {
        "id": "RBmYlunaaVmp"
      }
    },
    {
      "cell_type": "markdown",
      "source": [
        "\n",
        "\n",
        "\n",
        "extract all frames of a video and store each quarter to a folder\n",
        "\n",
        "and get one frame in random from each folder and put them on th e drive and provide 4 links, one for each frame ... diectory 1 : from 1 to 50 ... directory 2 : from 51 to 100 ...etc\n",
        "\n",
        "\n",
        "the name of each frame is : frame 1 fram2 ...etc\n",
        "\n",
        "\n",
        "also use opencv library to wrte the name of the frame on the image\n",
        "\n",
        "deadline: wednesday"
      ],
      "metadata": {
        "id": "Xyv50RV4biZH"
      }
    },
    {
      "cell_type": "markdown",
      "source": [
        "downlaoding the video\n",
        "---"
      ],
      "metadata": {
        "id": "nNGWJK6pliaj"
      }
    },
    {
      "cell_type": "code",
      "source": [
        "logfile=open('logfile.log', 'a')"
      ],
      "metadata": {
        "id": "nfKWwW3yhyUI"
      },
      "execution_count": null,
      "outputs": []
    },
    {
      "cell_type": "markdown",
      "source": [
        "### using pytube"
      ],
      "metadata": {
        "id": "LwxAaAG-lmj6"
      }
    },
    {
      "cell_type": "code",
      "source": [
        "#!pip install pytube"
      ],
      "metadata": {
        "colab": {
          "base_uri": "https://localhost:8080/"
        },
        "id": "DQe3S8w4boCy",
        "outputId": "db32126a-9f99-4909-d081-55c80cfdbb3e"
      },
      "execution_count": null,
      "outputs": [
        {
          "output_type": "stream",
          "name": "stdout",
          "text": [
            "Requirement already satisfied: pytube in /usr/local/lib/python3.10/dist-packages (15.0.0)\n"
          ]
        }
      ]
    },
    {
      "cell_type": "code",
      "source": [
        "#from pytube import YouTube\n",
        "\n",
        "#yt = YouTube('https://www.youtube.com/watch?v=_uQrJ0TkZlc')\n",
        "\n",
        "##YouTube('https://www.youtube.com/watch?v=_uQrJ0TkZlc').streams.filter(res=\"1080p\").first().download()\n",
        "\n",
        "#stream = yt.streams.filter(res=\"1080p\", adaptive=True).first()\n",
        "#stream.download()"
      ],
      "metadata": {
        "colab": {
          "base_uri": "https://localhost:8080/",
          "height": 35
        },
        "id": "mCHMZqLqaugf",
        "outputId": "88fbe2dc-17ce-441d-8e02-9b6934921f3a"
      },
      "execution_count": null,
      "outputs": [
        {
          "output_type": "execute_result",
          "data": {
            "text/plain": [
              "'/content/Python Tutorial - Python Full Course for Beginners.mp4'"
            ],
            "application/vnd.google.colaboratory.intrinsic+json": {
              "type": "string"
            }
          },
          "metadata": {},
          "execution_count": 23
        }
      ]
    },
    {
      "cell_type": "markdown",
      "source": [
        "error encountered:\n",
        "\n",
        "\n",
        "It seems that Youtube has changed the availibility of formats. Now the only \"progressive=True\" file (which is a file that has video and audio) is limited to the 360 resolution only. To get better resolution the filter should be set to \"adaptive=True\" but in this case you have only video without audio. You can then get the audio portion by selecting filter to \"only_audio=True\" which is pretty annoying because then you have to join the two files, audio and video.\n",
        "\n",
        "https://github.imc.re/pytube/pytube/issues/1947"
      ],
      "metadata": {
        "id": "_GY74rj-jTNl"
      }
    },
    {
      "cell_type": "markdown",
      "source": [
        "### using import yt_dlp"
      ],
      "metadata": {
        "id": "8TvRdETUmDyI"
      }
    },
    {
      "cell_type": "code",
      "source": [
        "!pip install yt-dlp"
      ],
      "metadata": {
        "colab": {
          "base_uri": "https://localhost:8080/"
        },
        "id": "hX7lGobkmPHc",
        "outputId": "96b73a74-1faa-49d3-8378-3934ca38558a"
      },
      "execution_count": null,
      "outputs": [
        {
          "output_type": "stream",
          "name": "stdout",
          "text": [
            "Requirement already satisfied: yt-dlp in /usr/local/lib/python3.10/dist-packages (2024.7.7)\n",
            "Requirement already satisfied: brotli in /usr/local/lib/python3.10/dist-packages (from yt-dlp) (1.1.0)\n",
            "Requirement already satisfied: certifi in /usr/local/lib/python3.10/dist-packages (from yt-dlp) (2024.6.2)\n",
            "Requirement already satisfied: mutagen in /usr/local/lib/python3.10/dist-packages (from yt-dlp) (1.47.0)\n",
            "Requirement already satisfied: pycryptodomex in /usr/local/lib/python3.10/dist-packages (from yt-dlp) (3.20.0)\n",
            "Requirement already satisfied: requests<3,>=2.32.2 in /usr/local/lib/python3.10/dist-packages (from yt-dlp) (2.32.3)\n",
            "Requirement already satisfied: urllib3<3,>=1.26.17 in /usr/local/lib/python3.10/dist-packages (from yt-dlp) (2.0.7)\n",
            "Requirement already satisfied: websockets>=12.0 in /usr/local/lib/python3.10/dist-packages (from yt-dlp) (12.0)\n",
            "Requirement already satisfied: charset-normalizer<4,>=2 in /usr/local/lib/python3.10/dist-packages (from requests<3,>=2.32.2->yt-dlp) (3.3.2)\n",
            "Requirement already satisfied: idna<4,>=2.5 in /usr/local/lib/python3.10/dist-packages (from requests<3,>=2.32.2->yt-dlp) (3.7)\n"
          ]
        }
      ]
    },
    {
      "cell_type": "code",
      "source": [
        "import yt_dlp\n",
        "\n",
        "# Replace with the URL of the YouTube video\n",
        "video_url = 'https://www.youtube.com/watch?v=jAa58N4Jlos'\n",
        "\n",
        "# Create a downloader object\n",
        "ydl_opts = {\n",
        "    'format': 'bestvideo[height<=1080]+bestaudio/best[height<=1080]',  # Download the best video and audio up to 1080p\n",
        "    'outtmpl': '/content/Video.%(ext)s',  # Output file template\n",
        "    'merge_output_format': 'mp4',  # Ensure the output is in mp4 format\n",
        "}\n",
        "\n",
        "with yt_dlp.YoutubeDL(ydl_opts) as ydl:\n",
        "    ydl.download([video_url])\n",
        "\n",
        "logfile.write(\"\\nVideo downloaded\")"
      ],
      "metadata": {
        "colab": {
          "base_uri": "https://localhost:8080/"
        },
        "id": "uY2W0q6ViE17",
        "outputId": "66b0fdda-04f1-4624-eced-332f461b290e"
      },
      "execution_count": null,
      "outputs": [
        {
          "output_type": "stream",
          "name": "stdout",
          "text": [
            "[youtube] Extracting URL: https://www.youtube.com/watch?v=jAa58N4Jlos\n",
            "[youtube] jAa58N4Jlos: Downloading webpage\n",
            "[youtube] jAa58N4Jlos: Downloading ios player API JSON\n",
            "[youtube] jAa58N4Jlos: Downloading m3u8 information\n",
            "[info] jAa58N4Jlos: Downloading 1 format(s): 248+251\n",
            "[download] Destination: /content/Video.f248.webm\n",
            "[download] 100% of   32.17MiB in 00:00:01 at 21.92MiB/s  \n",
            "[download] Destination: /content/Video.f251.webm\n",
            "[download] 100% of    3.35MiB in 00:00:00 at 5.03MiB/s   \n",
            "[Merger] Merging formats into \"/content/Video.mp4\"\n",
            "Deleting original file /content/Video.f248.webm (pass -k to keep)\n",
            "Deleting original file /content/Video.f251.webm (pass -k to keep)\n"
          ]
        },
        {
          "output_type": "execute_result",
          "data": {
            "text/plain": [
              "17"
            ]
          },
          "metadata": {},
          "execution_count": 5
        }
      ]
    },
    {
      "cell_type": "code",
      "source": [
        "!ls"
      ],
      "metadata": {
        "colab": {
          "base_uri": "https://localhost:8080/"
        },
        "id": "c9xDOotLDQaw",
        "outputId": "12ff0455-517a-488a-d8bc-378f3b0c6219"
      },
      "execution_count": null,
      "outputs": [
        {
          "output_type": "stream",
          "name": "stdout",
          "text": [
            "logfile.log  sample_data  Video.mp4\n"
          ]
        }
      ]
    },
    {
      "cell_type": "markdown",
      "source": [
        "Extract frames from the video and divide them into quarters:\n",
        "---\n"
      ],
      "metadata": {
        "id": "moZ63SfZ5Mvx"
      }
    },
    {
      "cell_type": "code",
      "source": [
        "import cv2\n",
        "import os\n",
        "\n",
        "# Create directories to store frames\n",
        "dirs = ['/content/frames_part1', '/content/frames_part2', '/content/frames_part3', '/content/frames_part4']\n",
        "for dir in dirs:\n",
        "    os.makedirs(dir, exist_ok=True)\n",
        "\n",
        "# Path to the downloaded video\n",
        "video_path = '/content/Video.mp4'  # Replace with the actual video path\n",
        "\n",
        "# Open the video file\n",
        "cap = cv2.VideoCapture(video_path)\n",
        "\n",
        "# Get the total number of frames in the video\n",
        "total_frames = int(cap.get(cv2.CAP_PROP_FRAME_COUNT))\n",
        "\n",
        "# Calculate the number of frames per directory\n",
        "frames_per_dir = total_frames // 4\n",
        "\n",
        "# Initialize frame counters\n",
        "frame_count = 0\n",
        "dir_index = 0\n",
        "\n",
        "while cap.isOpened():\n",
        "    isRead, frame = cap.read()\n",
        "    if not isRead: #isRead: A boolean value indicating whether the frame was successfully read. If ret is True, the frame was successfully read; if False, the end of the video has been reached or there was an error.\n",
        "        break\n",
        "\n",
        "    # Define the path to save the frame\n",
        "    frame_path = os.path.join(dirs[dir_index], f'frame_{frame_count}.jpg')\n",
        "\n",
        "    # Save the frame as a JPEG file\n",
        "    cv2.imwrite(frame_path, frame)\n",
        "\n",
        "    frame_count += 1\n",
        "\n",
        "    # Change directory index after frames_per_dir frames\n",
        "    if frame_count % frames_per_dir == 0 and dir_index < 3:  # Change directory after every frames_per_dir frames, but only for the first 3 directories\n",
        "        dir_index += 1\n",
        "\n",
        "cap.release()\n",
        "cv2.destroyAllWindows()\n",
        "\n",
        "logfile.write(\"\\Frames extracted and distributed successfully.\")"
      ],
      "metadata": {
        "colab": {
          "base_uri": "https://localhost:8080/"
        },
        "id": "ibKHi9tp7UA9",
        "outputId": "52157d89-9571-4eea-c765-5d903edad050"
      },
      "execution_count": null,
      "outputs": [
        {
          "output_type": "stream",
          "name": "stdout",
          "text": [
            "Frames extracted and distributed successfully.\n"
          ]
        }
      ]
    },
    {
      "cell_type": "markdown",
      "source": [
        "pick 4 frames in random\n",
        "---"
      ],
      "metadata": {
        "id": "OvBzmzLPH54u"
      }
    },
    {
      "cell_type": "code",
      "source": [
        "import random\n",
        "\n",
        "# Define directories\n",
        "output_dir = '/content/output'\n",
        "\n",
        "# Create the output directory if it doesn't exist\n",
        "os.makedirs(output_dir, exist_ok=True)\n",
        "\n",
        "# Loop through each directory\n",
        "for dir_path in dirs:\n",
        "    # List all files in the directory\n",
        "    files = os.listdir(dir_path) #returns a list of the names of the entries in the directory given by path\n",
        "\n",
        "    # Select a random frame\n",
        "    selected_frame = random.choice(files)\n",
        "\n",
        "    # Define source and destination paths\n",
        "    src_path = os.path.join(dir_path, selected_frame)\n",
        "    dst_path = os.path.join(output_dir, f'{os.path.basename(dir_path)}_{selected_frame}')\n",
        "\n",
        "    # Read the frame\n",
        "    frame = cv2.imread(src_path)\n",
        "\n",
        "    # Add text to the frame\n",
        "    font = cv2.FONT_HERSHEY_SIMPLEX\n",
        "    text = os.path.basename(dst_path)\n",
        "    position = (10, 30)  # Position of the text on the frame\n",
        "    font_scale = 1\n",
        "    font_color = (255, 255, 255)  # White color\n",
        "    thickness = 2\n",
        "    line_type = cv2.LINE_AA\n",
        "\n",
        "    cv2.putText(frame, text, position, font, font_scale, font_color, thickness, line_type)\n",
        "\n",
        "    # Save the frame with text\n",
        "    cv2.imwrite(dst_path, frame)\n",
        "\n",
        "logfile.write(\"\\nRandom frames selected and saved to output directory.\")\n"
      ],
      "metadata": {
        "id": "nlH-DkXbH8_C"
      },
      "execution_count": null,
      "outputs": []
    },
    {
      "cell_type": "code",
      "source": [
        "!ls"
      ],
      "metadata": {
        "colab": {
          "base_uri": "https://localhost:8080/"
        },
        "id": "uZlcGqj_jVHs",
        "outputId": "1ba24885-1b7e-4a57-ee2c-ab8a80e7f6ea"
      },
      "execution_count": null,
      "outputs": [
        {
          "output_type": "stream",
          "name": "stdout",
          "text": [
            "frames_part1  frames_part2  frames_part3  frames_part4\tlogfile.log  output  sample_data  Video.mp4\n"
          ]
        }
      ]
    },
    {
      "cell_type": "markdown",
      "source": [
        "Upload to drive\n",
        "---"
      ],
      "metadata": {
        "id": "eXRQeYcZkR8O"
      }
    },
    {
      "cell_type": "code",
      "source": [
        "from google.colab import drive\n",
        "drive.mount('/content/drive')"
      ],
      "metadata": {
        "colab": {
          "base_uri": "https://localhost:8080/"
        },
        "id": "x8y_QADbkRr-",
        "outputId": "c3c96106-5df4-4629-bd10-b7fc7d5a98e8"
      },
      "execution_count": null,
      "outputs": [
        {
          "output_type": "stream",
          "name": "stdout",
          "text": [
            "Mounted at /content/drive\n"
          ]
        }
      ]
    },
    {
      "cell_type": "code",
      "source": [
        "!ls"
      ],
      "metadata": {
        "colab": {
          "base_uri": "https://localhost:8080/"
        },
        "id": "x9OUjTJ7klDl",
        "outputId": "a5e70b1c-99ed-404d-c181-8b4e9c756c66"
      },
      "execution_count": null,
      "outputs": [
        {
          "output_type": "stream",
          "name": "stdout",
          "text": [
            "drive\t      frames_part2  frames_part4  output       Video.mp4\n",
            "frames_part1  frames_part3  logfile.log   sample_data\n"
          ]
        }
      ]
    },
    {
      "cell_type": "code",
      "source": [
        "import shutil\n",
        "\n",
        "# Define the path to your Google Drive\n",
        "drive_path = '/content/drive/MyDrive/'\n",
        "\n",
        "# Define the source and destination paths\n",
        "source_path = '/content/output'\n",
        "destination_path = os.path.join(drive_path, 'output')\n",
        "\n",
        "# Copy the folder to Google Drive\n",
        "shutil.copytree(source_path, destination_path)\n",
        "\n",
        "logfile.write('Output folder uploaded to Google Drive successfully.')\n"
      ],
      "metadata": {
        "colab": {
          "base_uri": "https://localhost:8080/"
        },
        "id": "uJ0imGivklvK",
        "outputId": "ad399c32-81be-4df1-84c0-be2e2adf2a0a"
      },
      "execution_count": null,
      "outputs": [
        {
          "output_type": "execute_result",
          "data": {
            "text/plain": [
              "52"
            ]
          },
          "metadata": {},
          "execution_count": 20
        }
      ]
    },
    {
      "cell_type": "code",
      "source": [
        "logfile.close()"
      ],
      "metadata": {
        "id": "xLlUodBak2z1"
      },
      "execution_count": null,
      "outputs": []
    }
  ]
}